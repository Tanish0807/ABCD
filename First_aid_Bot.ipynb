{
  "nbformat": 4,
  "nbformat_minor": 0,
  "metadata": {
    "colab": {
      "name": "First-aid Bot.ipynb",
      "provenance": [],
      "collapsed_sections": [
        "L_eDpwgDS3zj",
        "JSY04vudSpgH"
      ],
      "include_colab_link": true
    },
    "kernelspec": {
      "name": "python3",
      "display_name": "Python 3"
    },
    "language_info": {
      "name": "python"
    },
    "accelerator": "GPU"
  },
  "cells": [
    {
      "cell_type": "markdown",
      "metadata": {
        "id": "view-in-github",
        "colab_type": "text"
      },
      "source": [
        "<a href=\"https://colab.research.google.com/github/Tanish0807/ABCD/blob/main/First_aid_Bot.ipynb\" target=\"_parent\"><img src=\"https://colab.research.google.com/assets/colab-badge.svg\" alt=\"Open In Colab\"/></a>"
      ]
    },
    {
      "cell_type": "code",
      "metadata": {
        "id": "MFA-N6rydBw0",
        "colab": {
          "base_uri": "https://localhost:8080/"
        },
        "outputId": "ec277db1-d5df-4c36-e35a-2c0f06d3667a"
      },
      "source": [
        "from google.colab import drive\n",
        "drive.mount('/content/drive')"
      ],
      "execution_count": null,
      "outputs": [
        {
          "output_type": "stream",
          "text": [
            "Mounted at /content/drive\n"
          ],
          "name": "stdout"
        }
      ]
    },
    {
      "cell_type": "code",
      "metadata": {
        "id": "pKJzLgcRebR8",
        "colab": {
          "base_uri": "https://localhost:8080/"
        },
        "outputId": "8f3464b5-54f0-4918-9a71-ba7c50d19e14"
      },
      "source": [
        "import numpy\n",
        "import random\n",
        "import json\n",
        "import pickle\n",
        "#import pandas as pd\n",
        "#import matplotlib.pyplot as plt\n",
        "\n",
        "#from sklearn.preprocessing import StandardScaler # StandardScalar for standardising/normalizing data (not needed)\n",
        "from sklearn.model_selection import train_test_split # Train-Test Split for spliting the dataset\n",
        "\n",
        "from keras.layers import *\n",
        "from keras.models import *\n",
        "import nltk\n",
        "nltk.download('punkt') #Converting Paragraphs into Sentences/Strings\n",
        "from nltk.stem.lancaster import LancasterStemmer\n",
        "stemmer = LancasterStemmer()"
      ],
      "execution_count": null,
      "outputs": [
        {
          "output_type": "stream",
          "text": [
            "[nltk_data] Downloading package punkt to /root/nltk_data...\n",
            "[nltk_data]   Unzipping tokenizers/punkt.zip.\n"
          ],
          "name": "stdout"
        }
      ]
    },
    {
      "cell_type": "markdown",
      "metadata": {
        "id": "cVdyCeakTAYa"
      },
      "source": [
        "# Uploading Data"
      ]
    },
    {
      "cell_type": "code",
      "metadata": {
        "id": "K_GmCwSlfIrL"
      },
      "source": [
        "with open ('/content/drive/MyDrive/intents.json') as file:\n",
        "  data = json.load(file)"
      ],
      "execution_count": null,
      "outputs": []
    },
    {
      "cell_type": "code",
      "metadata": {
        "id": "ea9Kxuhyf2sT",
        "colab": {
          "base_uri": "https://localhost:8080/"
        },
        "outputId": "22410b56-438d-4202-e49b-046ca9b0e1cd"
      },
      "source": [
        "data"
      ],
      "execution_count": null,
      "outputs": [
        {
          "output_type": "execute_result",
          "data": {
            "text/plain": [
              "{'intents': [{'context_set': '',\n",
              "   'patterns': ['What to do if Cuts?',\n",
              "    'How to cure Cuts?',\n",
              "    'Which medicine to apply for Cuts?',\n",
              "    'what to apply on cuts?',\n",
              "    'Cuts'],\n",
              "   'responses': ['Wash the cut properly to prevent infection and stop the bleeding by applying pressure for 1-2minutes until bleeding stops. Apply Petroleum Jelly to make sure that the wound is moist for quick healing. Finally cover the cut with a sterile bandage. Pain relievers such as acetaminophen can be applied.'],\n",
              "   'tag': 'Cuts'},\n",
              "  {'context_set': '',\n",
              "   'patterns': ['how do you treat abrasions?',\n",
              "    'Do Abrasions cause scars?',\n",
              "    'Abrasions',\n",
              "    'what to do if abrasions?',\n",
              "    'Which medicine to apply for abrasions?',\n",
              "    'How to cure abrasions?'],\n",
              "   'responses': ['Begin with washed hands.Gently clean the area with cool to lukewarm water and mild soap. Remove dirt or other particles from the wound using sterilized tweezers.For a mild scrape that’s not bleeding, leave the wound uncovered.If the wound is bleeding, use a clean cloth or bandage, and apply gentle pressure to the area to stop any bleeding.Cover a wound that bled with a thin layer of topical antibiotic ointment, like Bacitracin, or a sterile moisture barrier ointment, like Aquaphor. Cover it with a clean bandage or gauze. Gently clean the wound and change the ointment and bandage once per day.Watch the area for signs of infection, like pain or redness and swelling. See your doctor if you suspect infection.'],\n",
              "   'tag': 'Abrasions'},\n",
              "  {'context_set': '',\n",
              "   'patterns': ['How do you treat Sting?',\n",
              "    'Stings',\n",
              "    'What to do if you get a sting?',\n",
              "    'Which medicine to apply if sting?'],\n",
              "   'responses': ['Remove any stingers immediately. Some experts recommend scraping out the stinger with a credit card. Applying ice to the site may provide some mild relief. Apply ice for 20 minutes once every hour as needed. Wrap the ice in a towel or keep a cloth between the ice and skin to keep from freezing the skin. Taking an antihistamine such as diphenhydramine (Benadryl) or a nonsedating one such as loratadine (Claritin) will help with itching and swelling. Take acetaminophen (Tylenol) or ibuprofen (Motrin)for pain relief as needed. Wash the sting site with soap and water. Placing hydrocortisone cream on the sting can help relieve redness, itching, and swelling.'],\n",
              "   'tag': 'stings'},\n",
              "  {'context_set': '',\n",
              "   'patterns': ['How to remove Splinters',\n",
              "    'How to cure Splinters?',\n",
              "    'What to do if I have splinters?',\n",
              "    'How do you bring a splinter to the surface?'],\n",
              "   'responses': ['1. SOAK IT IN EPSOM SALTS. Dissolve a cup of the salts into a warm bath and soak whatever part of the body has the splinter. Failing that, you can also put some of the salts onto a bandage pad and leave it covered for a day; this will eventually help bring the splinter to the surface. 2. VINEGAR OR OIL. Another simple way to draw out that stubborn splinter is to soak the affected area in oil (olive or corn) or white vinegar. Just pour some in a bowl and soak the area for around 20 to 30 minutes,'],\n",
              "   'tag': 'Splinter'},\n",
              "  {'context_set': '',\n",
              "   'patterns': ['How do you treat a sprain?',\n",
              "    'what to do if i get a sprain?',\n",
              "    'Which cream to apply if i get a sprain?',\n",
              "    'Which medicine to apply if I get a sprain?'],\n",
              "   'responses': [\"Use an ice pack or ice slush bath immediately for 15 to 20 minutes and repeat every two to three hours while you're awake. To help stop swelling, compress the ankle with an elastic bandage until the swelling stops. In most cases, pain relievers — such as ibuprofen (Advil, Motrin IB, others) or naproxen sodium (Aleve, others) or acetaminophen (Tylenol, others) are enough to manage the pain of a sprained ankle.\"],\n",
              "   'tag': 'Sprains'},\n",
              "  {'context_set': '',\n",
              "   'patterns': ['How do you treat a strain?',\n",
              "    'what to do if i get a strain?',\n",
              "    'Which cream to apply if i get a strain?',\n",
              "    'Which medicine to apply if I get a strain?',\n",
              "    'How do you diagnose a strain?',\n",
              "    'Is heat or ice better for a pulled muscle?'],\n",
              "   'responses': ['Rest,Ice,Compression and Elevation can be used to cure strains. Avoid using your muscle for a few days, especially if movement causes an increase in pain and also Apply ice immediately after injuring your muscle. This will minimize swelling. Don’t put ice directly on your skin. Use an ice pack or wrap ice in a towel. To reduce swelling, wrap the affected area with an elastic bandage until swelling comes down.'],\n",
              "   'tag': 'Strains'},\n",
              "  {'context_set': '',\n",
              "   'patterns': ['How do you treat a mild Fever?',\n",
              "    'what to do if i get a mild fever?',\n",
              "    'Which medicine to take if I get a mild fever?',\n",
              "    'fever'],\n",
              "   'responses': ['To treat a fever at home: 1)Drink plenty of fluids to stay hydrated. 2)Dress in lightweight clothing. 3)Use a light blanket if you feel chilled, until the chills end. 4)Take acetaminophen (Tylenol, others) or ibuprofen (Advil, Motrin IB, others). 5) Get medical help if the fever lasts more than five days in a row.'],\n",
              "   'tag': 'Fever'},\n",
              "  {'context_set': '',\n",
              "   'patterns': ['How do you treat nasal Congestion?',\n",
              "    'what to do if i get a nasal congestion?',\n",
              "    'Which medicine to take if I have a nasal congestion?',\n",
              "    'what to do if i have a blocked nose?',\n",
              "    'How do you treat a blocked nose?',\n",
              "    'How long does nasal congestion last?'],\n",
              "   'responses': ['When you’re stuffed up, focus on keeping your nasal passages and sinuses moist. To keep your nasal passages moist, you can: 1)Use a humidifier or vaporizer. 2)Drink lots of fluids. This will thin out your mucus, which could help prevent blocked sinuses. 3)Place a warm, wet towel on your face. It may relieve discomfort and open your nasal passages.'],\n",
              "   'tag': 'Nasal Congestion'},\n",
              "  {'context_set': '',\n",
              "   'patterns': ['How to cure cough?',\n",
              "    'How do you treat cough?',\n",
              "    'what to do if i get a cough?',\n",
              "    'Which medicine to take if I get cough?',\n",
              "    'How do you get rid of cough?'],\n",
              "   'responses': ['1) Honey:- Use honey to treat a cough, mix 2 teaspoons (tsp) with warm water or an herbal tea. Drink this mixture once or twice a day. Do not give honey to children under 1 year of age. 2) Ginger:- Brew up a soothing ginger tea by adding 20–40 grams (g) of fresh ginger slices to a cup of hot water. Allow to steep for a few minutes before drinking. Add honey or lemon juice to improve the taste and further soothe a cough. 3) Fluids:- Staying hydrated is vital for those with a cough or cold. Research indicates that drinking liquids at room temperature can alleviate a cough, runny nose, and sneezing.'],\n",
              "   'tag': 'Cough'},\n",
              "  {'context_set': '',\n",
              "   'patterns': ['How do you treat sore throat?',\n",
              "    'what to do if i get a sore throat?',\n",
              "    'Which medicine to take if I get a sore throat?',\n",
              "    'How to cure sore throat?'],\n",
              "   'responses': ['1) Make sure you get plenty of rest and drink a lot of fluids. 2)Inhale steam,Run hot water in a sink.Drape a towel over you to trap the steam, and have the person lean over the sink with the water running. Tell him to breathe deeply through his mouth and nose for 5 to 10 minutes. Repeat several times a day. 3)Have him sip chicken broth or warm tea with honey. Don’t give honey to a child under 12 months of age.'],\n",
              "   'tag': 'Sore Throat'},\n",
              "  {'context_set': '',\n",
              "   'patterns': ['How do you treat gas problems?',\n",
              "    'what to do if i have Gastrointestinal problems?',\n",
              "    'Which medicine to take if I get gas problem?',\n",
              "    'How to cure Gas problems?'],\n",
              "   'responses': ['1) Replenish body fluids 2)Do not take antidiarrheal drugs or laxatives or pain medication, unless specified by a medical professional.3)Taking antacids may help, per recommendation of a healthcare professional. 4)If prone to frequent heartburns, seek medical help. 5)Taking meals that are not spicy regularly, can relieve ulcer pains. 6)Seek medical help, if conditions persist or continue to worsen'],\n",
              "   'tag': 'Gastrointestinal problems'},\n",
              "  {'context_set': '',\n",
              "   'patterns': ['How do you treat Skin problems?',\n",
              "    'what to do if i get a skin allergy?',\n",
              "    'Which medicine to take if I get a skin allergy?',\n",
              "    'How to cure skin allergy?'],\n",
              "   'responses': [\"1)Hydrocortisone cream. 2)Ointments like calamine lotion. 3)Antihistamines. 4)Cold compresses. 5)Oatmeal baths. 6)Talk to your doctor about what's best for your specific rash.\"],\n",
              "   'tag': 'Skin problems'},\n",
              "  {'context_set': '',\n",
              "   'patterns': ['How do you treat Abdonominal Pain?',\n",
              "    'what to do if i get a Abdonominal Pain?',\n",
              "    'Which medicine to take if I get a Abdonominal Pain?',\n",
              "    'How to cure Abdonominal Pain?'],\n",
              "   'responses': ['1)Provide clear fluids to sip, such as water, broth, or fruit juice diluted with water. 2)Serve bland foods, such as saltine crackers, plain bread, dry toast, rice, gelatin, or applesauce. 3)Avoid spicy or greasy foods and caffeinated or carbonated drinks until 48 hours after all symptoms have gone away. '],\n",
              "   'tag': 'Abdonominal Pain'},\n",
              "  {'context_set': '',\n",
              "   'patterns': ['How do you treat Bruises?',\n",
              "    'what to do if i get a Bruise?',\n",
              "    'Which medicine to take if I get a Bruise?',\n",
              "    'How to cure Bruises?'],\n",
              "   'responses': ['1)Ice the bruise with an ice pack wrapped in a towel. 2)Leave it in place for 10 to 20 minutes. 3)Repeat several times a day for a day or two as needed. 4)Compress the bruised area if it is swelling, using an elastic bandage. '],\n",
              "   'tag': 'Bruises'},\n",
              "  {'context_set': '',\n",
              "   'patterns': ['How do you treat a Broken Toe?',\n",
              "    'what to do if i get a Broken Toe?',\n",
              "    'Which medicine to take if I get a Broken Toe?',\n",
              "    'How to cure Broken Toe?'],\n",
              "   'responses': ['1)To help decrease pain and swelling in a broken toe, elevate the foot, ice the injury, and stay off the foot. 2)Depending on the severity of the fracture, the toe may need to be put back into place (reduced), and some compound toe fractures may require surgery.3) Most broken toes heal without complications in six weeks.'],\n",
              "   'tag': 'Broken Toe'},\n",
              "  {'context_set': '',\n",
              "   'patterns': ['How do you treat Choking?',\n",
              "    'what to do if i get a Choke?',\n",
              "    'Which medicine to take if I get Choked?',\n",
              "    'How to cure Choking?'],\n",
              "   'responses': [\"1)Encourage them to keep coughing to try to clear the blockage. 2)Ask them to try to spit out the object if it's in their mouth. 3)If coughing doesn't work, start back blows and Abdonominal thrusts\"],\n",
              "   'tag': 'Choking'},\n",
              "  {'context_set': '',\n",
              "   'patterns': ['How do you treat a wound?',\n",
              "    'what to do if i get a Wound?',\n",
              "    'Which medicine to take if I get wounded?',\n",
              "    'How to cure a wound?'],\n",
              "   'responses': ['1)Rinse the cut or wound with water and apply pressure with sterile gauze, a bandage, or a clean cloth. 2)If blood soaks through the bandage, place another bandage on top of the first and keep applying pressure. 3)Raise the injured body part to slow bleeding. 4)When bleeding stops, cover the wound with a new, clean bandage.'],\n",
              "   'tag': 'Wound'},\n",
              "  {'context_set': '',\n",
              "   'patterns': ['How do you treat Diarrhea?',\n",
              "    'what to do if i get Diarrhea?',\n",
              "    'Which medicine to take if I get Diarrhea?',\n",
              "    'How to cure Diarrhea?'],\n",
              "   'responses': ['1)Hydrating the body is essential for recovering from diarrhea.This causes the body to lose electrolytes such as sodium and chloride. 2)It is highly recommended to avoid dairy products, as they may worsen diarrhea in some people. 3)However, if diarrhea lasts for more than 2 days, seek medical advice to avoid complications.'],\n",
              "   'tag': 'Diarrhea'},\n",
              "  {'context_set': '',\n",
              "   'patterns': ['How do you treat a Frost bite?',\n",
              "    'what to do if i get a Frost bite?',\n",
              "    'Which medicine to take if I get a Frost bite?',\n",
              "    'How to cure Frost bite?'],\n",
              "   'responses': [' '],\n",
              "   'tag': 'Frost bite'},\n",
              "  {'context_set': '',\n",
              "   'patterns': ['How do you treat Heat Exhaustion?',\n",
              "    'what to do if i feel Exhausted due to heat?',\n",
              "    'Which medicine to take if I get Exhausted?',\n",
              "    'How to cure Heat Exhaustion?'],\n",
              "   'responses': [' '],\n",
              "   'tag': 'Heat Exhaustion'},\n",
              "  {'context_set': '',\n",
              "   'patterns': ['How do you treat Heat Stroke?',\n",
              "    'what to do if i get a Heat Stroke?',\n",
              "    'Which medicine to take if I get Stroke?',\n",
              "    'How to cure a Heat Stroke?'],\n",
              "   'responses': [' '],\n",
              "   'tag': 'Heat Stroke'},\n",
              "  {'context_set': '',\n",
              "   'patterns': ['How do you treat a Insect Bite?',\n",
              "    'what to do if a insect bites me?',\n",
              "    'Which medicine to take if I get bitten by a insect?',\n",
              "    'How to cure insect bite?'],\n",
              "   'responses': [' '],\n",
              "   'tag': 'Insect Bites'},\n",
              "  {'context_set': '',\n",
              "   'patterns': ['How do you treat a bleeding nose?',\n",
              "    'what to do if i my nose is bleeding?',\n",
              "    'Which medicine to take if I get nose bleed?',\n",
              "    'How to cure nose bleeding?'],\n",
              "   'responses': [' '],\n",
              "   'tag': 'nose bleed'},\n",
              "  {'context_set': '',\n",
              "   'patterns': ['How do you treat a Pulled Muscle?',\n",
              "    'what to do if my muscle is pulled?',\n",
              "    'Which medicine to take if I got pulled muscle?',\n",
              "    'How to cure a pulled muscle?'],\n",
              "   'responses': [' '],\n",
              "   'tag': 'Pulled Muscle'},\n",
              "  {'context_set': '',\n",
              "   'patterns': ['How do you treat Rectal Bleeding?',\n",
              "    'what to do if i get a Rectal Bleeding?',\n",
              "    'Which medicine to take if I get Rectal Bleeding?',\n",
              "    'How to cure Rectal Bleeding?'],\n",
              "   'responses': [' '],\n",
              "   'tag': 'Rectal bleeding'},\n",
              "  {'context_set': '',\n",
              "   'patterns': ['How do you treat Sun Burn?',\n",
              "    'what to do if i get a Sun Burn?',\n",
              "    'Which medicine to take if I get Sun Burn?',\n",
              "    'How to cure a Sun Burn?'],\n",
              "   'responses': [' '],\n",
              "   'tag': 'Sun Burn'},\n",
              "  {'context_set': '',\n",
              "   'patterns': ['How do you treat Testicle Pain?',\n",
              "    'what to do if i get a Testicle Pain?',\n",
              "    'Which medicine to take if I get a Testicle Pain?',\n",
              "    'How to cure Testicle Pain?'],\n",
              "   'responses': [' '],\n",
              "   'tag': 'Testicle Pain'},\n",
              "  {'context_set': '',\n",
              "   'patterns': ['How do you treat a Vertigo?',\n",
              "    'what to do if i get a Vertigo?',\n",
              "    'Which medicine to take if I get Vertigo?',\n",
              "    'How to cure a Vertigo?'],\n",
              "   'responses': [' '],\n",
              "   'tag': 'Vertigo'},\n",
              "  {'context_set': '',\n",
              "   'patterns': ['How do you treat bleeding?',\n",
              "    'what to do if i get a Bleeding?',\n",
              "    'Which medicine to take if I get bleeding?',\n",
              "    'How to cure Bleeding?'],\n",
              "   'responses': [' '],\n",
              "   'tag': 'Normal Bleeding'},\n",
              "  {'context_set': '',\n",
              "   'patterns': ['How do you treat an eye Injury?',\n",
              "    'what to do if i get a eye Injury?',\n",
              "    'Which medicine to take if I injured my eye?',\n",
              "    'How to cure injured eye?'],\n",
              "   'responses': [' '],\n",
              "   'tag': 'Eye Injury'},\n",
              "  {'context_set': '',\n",
              "   'patterns': ['How do you treat a chemical burn?',\n",
              "    'what to do if i get a Chemical Burn?',\n",
              "    'Which medicine to take if I get burn due to chemicals?',\n",
              "    'How to cure Chemical Burn?'],\n",
              "   'responses': [' '],\n",
              "   'tag': 'Chemical Burn'},\n",
              "  {'context_set': '',\n",
              "   'patterns': ['How do you treat a Poison?',\n",
              "    'what to do if i get Poison?',\n",
              "    'Which medicine to take if I am poisoned?',\n",
              "    'How to cure Poisoning?'],\n",
              "   'responses': [' '],\n",
              "   'tag': 'Poison'},\n",
              "  {'context_set': '',\n",
              "   'patterns': ['How do you treat broken Teeth ?',\n",
              "    'what to do if my Teeth got broken?',\n",
              "    'Which medicine to take if I get broken teeth?',\n",
              "    'cure broken teeth?'],\n",
              "   'responses': [' '],\n",
              "   'tag': 'Teeth'},\n",
              "  {'context_set': '',\n",
              "   'patterns': ['How do you treat a seizure?',\n",
              "    'what to do if i get a seizure?',\n",
              "    'Which medicine to take if I get seizure?',\n",
              "    'How to cure seizure?'],\n",
              "   'responses': [' '],\n",
              "   'tag': 'seizure'},\n",
              "  {'context_set': '',\n",
              "   'patterns': ['How do you treat a head Injury?',\n",
              "    'what to do if i get a Head Injury?',\n",
              "    'Which medicine to take if I get injured in the head?',\n",
              "    'How to cure Head Injury?'],\n",
              "   'responses': [' '],\n",
              "   'tag': 'Head Injury'},\n",
              "  {'context_set': '',\n",
              "   'patterns': ['How do you treat Faint?',\n",
              "    'what to do if i feel like Fainting?',\n",
              "    'Which medicine to take if I get a Faint?',\n",
              "    'How to cure Fainting?'],\n",
              "   'responses': [' '],\n",
              "   'tag': 'Fainting'},\n",
              "  {'context_set': '',\n",
              "   'patterns': ['How do you treat a mild Headache?',\n",
              "    'what to do if i get a mild Headache?',\n",
              "    'Which medicine to take if I have a mild headache?',\n",
              "    'How to cure a mild headache?'],\n",
              "   'responses': ['Give ibuprofen (Advil, Motrin), aspirin, or acetaminophen (Tylenol) for pain. Avoid ibuprofen and other NSAIDs if the person has heart failure or kidney failure. Do not give aspirin to a child under age 18.'],\n",
              "   'tag': 'Headache'},\n",
              "  {'context_set': '',\n",
              "   'patterns': ['How do you treat a Cold?',\n",
              "    'what to do if i get a mild Cold?',\n",
              "    'Which medicine to take if I have a Cold?',\n",
              "    'How to cure Cold?'],\n",
              "   'responses': [\"1)Keeping hydrated is absolutely vital to help 'flush' out the cold, as well as to break down congestion and keep your throat lubricated. 2)Vitamin C is extremely helpful when fighting infection, so at the first sign of a cold be sure to increase your intake by eating plenty of berries, citrus fruits, papayas, broccoli and red peppers which will help keep you protected. 3)When it comes to combating a cold,Vitamin D is essential in helping to regulate immune response.\"],\n",
              "   'tag': 'Cold'},\n",
              "  {'context_set': '',\n",
              "   'patterns': ['How do you treat Rashes?',\n",
              "    'what to do if i get a Rash?',\n",
              "    'Which medicine to take if I have a Rash?',\n",
              "    'How to cure Rash?'],\n",
              "   'responses': ['1)Olive oil helps in healing and promotes skin renewal given it is packed with vitamin E and antioxidants. It also soothes the skin and reduces itching. 2)Baking soda is useful in drying skin rashes as also in relieving itching and inflammation. 3)Aloe Vera,Thanks to its antibacterial, antifungal, anti-inflammatory and emollient properties, aloe vera is excellent for treating a number of skin ailments including rashes as also soothing the skin.'],\n",
              "   'tag': 'Rash'},\n",
              "  {'context_set': '',\n",
              "   'patterns': ['How do you treat a snake bite?',\n",
              "    'what to do if i get a snake bite?',\n",
              "    'Which medicine to take if I get a snake bite?',\n",
              "    'How to cure snake bite?',\n",
              "    'i got bit by a snake'],\n",
              "   'responses': ['While waiting for medical help: 1)Move the person beyond striking distance of the snake. 2)Have the person lie down with wound below the heart. 3)Keep the person calm and at rest, remaining as still as possible to keep venom from spreading. 4)Cover the wound with loose, sterile bandage. 5)Remove any jewelry from the area that was bitten. 6)Remove shoes if the leg or foot was bitten.'],\n",
              "   'tag': 'snake bite'},\n",
              "  {'context_set': '',\n",
              "   'patterns': ['How do you treat a animal bite?',\n",
              "    'How do you treat a monkey bite?',\n",
              "    'How do you treat a dog bite?',\n",
              "    'what to do if i get a animal bite?',\n",
              "    'Which medicine to take if I get a monekey bite?',\n",
              "    'How to cure dog bite?',\n",
              "    'i got bit by a dog'],\n",
              "   'responses': ['1)Wash the wound with soap and warm water. 2)Gently press a clean cloth over the wound to stop the flow of blood. 3)Apply an antibacterial ointment to the wound. 4)Cover with a sterile bandage. 5)Watch for signs of infection. 6)Seek help if you suspect infection or possible exposure to rabies, or if the wound is severe.'],\n",
              "   'tag': 'animal bite'},\n",
              "  {'context_set': '',\n",
              "   'patterns': ['What to do if someone is Drowning?',\n",
              "    'what to do if someone drowned?',\n",
              "    'What steps to take if i see a drowning person?',\n",
              "    'How to help a drowning person?'],\n",
              "   'responses': [\"1)Place your ear next to the person's mouth and nose. Do you feel air on your cheek? 2)Look to see if the person's chest is moving.If the Person is Not Breathing, Check Pulse. 3)Check the person's pulse for 10 seconds.If There is No Pulse, Start CPR.\"],\n",
              "   'tag': 'Drowning'},\n",
              "  {'context_set': '',\n",
              "   'patterns': ['How to give CPR??',\n",
              "    'what to do in a CPR?',\n",
              "    'What steps to take in a CPR??',\n",
              "    'How to help a drowning person in CPR?'],\n",
              "   'responses': ['1)For an adult or child, place the heel of one hand on the center of the chest at the nipple line. You can also push with one hand on top of the other. For an infant, place two fingers on the breastbone. 2)For an adult or child, press down at least 2 inches. Make sure not to press on ribs. For an infant, press down about 1 and 1/2 inches. Make sure not to press on the end of the breastbone. 3)Do chest compressions only, at the rate of 100-120 per minute or more. Let the chest rise completely between pushes. 4)Check to see if the person has started breathing.'],\n",
              "   'tag': 'CPR'},\n",
              "  {'context_set': '',\n",
              "   'patterns': ['How do you treat a Fracture?',\n",
              "    'what to do if i get a Fracture?',\n",
              "    'Which medicine to take if I have a Fracture?',\n",
              "    'How to cure a Fracture?'],\n",
              "   'responses': [\"1)Stop any bleeding. Apply pressure to the wound with a sterile bandage, a clean cloth or a clean piece of clothing. 2)Immobilize the injured area. Don't try to realign the bone or push a bone that's sticking out back in. If you've been trained in how to splint and professional help isn't readily available, apply a splint to the area above and below the fracture sites. Padding the splints can help reduce discomfort. 3)Apply ice packs to limit swelling and help relieve pain. Don't apply ice directly to the skin. Wrap the ice in a towel, piece of cloth or some other material. 4)Treat for shock. If the person feels faint or is breathing in short, rapid breaths, lay the person down with the head slightly lower than the trunk and, if possible, elevate the legs.\"],\n",
              "   'tag': 'Fracture'}]}"
            ]
          },
          "metadata": {
            "tags": []
          },
          "execution_count": 4
        }
      ]
    },
    {
      "cell_type": "code",
      "metadata": {
        "id": "c8UPIHVEg_Aw",
        "colab": {
          "base_uri": "https://localhost:8080/",
          "height": 35
        },
        "outputId": "d7260f7e-2a4a-4331-bc86-1ab00bbcbdcb"
      },
      "source": [
        "data['intents'][0]['tag']"
      ],
      "execution_count": null,
      "outputs": [
        {
          "output_type": "execute_result",
          "data": {
            "application/vnd.google.colaboratory.intrinsic+json": {
              "type": "string"
            },
            "text/plain": [
              "'Cuts'"
            ]
          },
          "metadata": {
            "tags": []
          },
          "execution_count": 5
        }
      ]
    },
    {
      "cell_type": "code",
      "metadata": {
        "colab": {
          "base_uri": "https://localhost:8080/"
        },
        "id": "rIRRRVFLkH7z",
        "outputId": "2fe342b7-48ec-4869-fa57-24d5126a3418"
      },
      "source": [
        "for var in range (0, 44):\n",
        "  print(data['intents'][var]['responses'])"
      ],
      "execution_count": null,
      "outputs": [
        {
          "output_type": "stream",
          "text": [
            "['Wash the cut properly to prevent infection and stop the bleeding by applying pressure for 1-2minutes until bleeding stops. Apply Petroleum Jelly to make sure that the wound is moist for quick healing. Finally cover the cut with a sterile bandage. Pain relievers such as acetaminophen can be applied.']\n",
            "['Begin with washed hands.Gently clean the area with cool to lukewarm water and mild soap. Remove dirt or other particles from the wound using sterilized tweezers.For a mild scrape that’s not bleeding, leave the wound uncovered.If the wound is bleeding, use a clean cloth or bandage, and apply gentle pressure to the area to stop any bleeding.Cover a wound that bled with a thin layer of topical antibiotic ointment, like Bacitracin, or a sterile moisture barrier ointment, like Aquaphor. Cover it with a clean bandage or gauze. Gently clean the wound and change the ointment and bandage once per day.Watch the area for signs of infection, like pain or redness and swelling. See your doctor if you suspect infection.']\n",
            "['Remove any stingers immediately. Some experts recommend scraping out the stinger with a credit card. Applying ice to the site may provide some mild relief. Apply ice for 20 minutes once every hour as needed. Wrap the ice in a towel or keep a cloth between the ice and skin to keep from freezing the skin. Taking an antihistamine such as diphenhydramine (Benadryl) or a nonsedating one such as loratadine (Claritin) will help with itching and swelling. Take acetaminophen (Tylenol) or ibuprofen (Motrin)for pain relief as needed. Wash the sting site with soap and water. Placing hydrocortisone cream on the sting can help relieve redness, itching, and swelling.']\n",
            "['1. SOAK IT IN EPSOM SALTS. Dissolve a cup of the salts into a warm bath and soak whatever part of the body has the splinter. Failing that, you can also put some of the salts onto a bandage pad and leave it covered for a day; this will eventually help bring the splinter to the surface. 2. VINEGAR OR OIL. Another simple way to draw out that stubborn splinter is to soak the affected area in oil (olive or corn) or white vinegar. Just pour some in a bowl and soak the area for around 20 to 30 minutes,']\n",
            "[\"Use an ice pack or ice slush bath immediately for 15 to 20 minutes and repeat every two to three hours while you're awake. To help stop swelling, compress the ankle with an elastic bandage until the swelling stops. In most cases, pain relievers — such as ibuprofen (Advil, Motrin IB, others) or naproxen sodium (Aleve, others) or acetaminophen (Tylenol, others) are enough to manage the pain of a sprained ankle.\"]\n",
            "['Rest,Ice,Compression and Elevation can be used to cure strains. Avoid using your muscle for a few days, especially if movement causes an increase in pain and also Apply ice immediately after injuring your muscle. This will minimize swelling. Don’t put ice directly on your skin. Use an ice pack or wrap ice in a towel. To reduce swelling, wrap the affected area with an elastic bandage until swelling comes down.']\n",
            "['To treat a fever at home: 1)Drink plenty of fluids to stay hydrated. 2)Dress in lightweight clothing. 3)Use a light blanket if you feel chilled, until the chills end. 4)Take acetaminophen (Tylenol, others) or ibuprofen (Advil, Motrin IB, others). 5) Get medical help if the fever lasts more than five days in a row.']\n",
            "['When you’re stuffed up, focus on keeping your nasal passages and sinuses moist. To keep your nasal passages moist, you can: 1)Use a humidifier or vaporizer. 2)Drink lots of fluids. This will thin out your mucus, which could help prevent blocked sinuses. 3)Place a warm, wet towel on your face. It may relieve discomfort and open your nasal passages.']\n",
            "['1) Honey:- Use honey to treat a cough, mix 2 teaspoons (tsp) with warm water or an herbal tea. Drink this mixture once or twice a day. Do not give honey to children under 1 year of age. 2) Ginger:- Brew up a soothing ginger tea by adding 20–40 grams (g) of fresh ginger slices to a cup of hot water. Allow to steep for a few minutes before drinking. Add honey or lemon juice to improve the taste and further soothe a cough. 3) Fluids:- Staying hydrated is vital for those with a cough or cold. Research indicates that drinking liquids at room temperature can alleviate a cough, runny nose, and sneezing.']\n",
            "['1) Make sure you get plenty of rest and drink a lot of fluids. 2)Inhale steam,Run hot water in a sink.Drape a towel over you to trap the steam, and have the person lean over the sink with the water running. Tell him to breathe deeply through his mouth and nose for 5 to 10 minutes. Repeat several times a day. 3)Have him sip chicken broth or warm tea with honey. Don’t give honey to a child under 12 months of age.']\n",
            "['1) Replenish body fluids 2)Do not take antidiarrheal drugs or laxatives or pain medication, unless specified by a medical professional.3)Taking antacids may help, per recommendation of a healthcare professional. 4)If prone to frequent heartburns, seek medical help. 5)Taking meals that are not spicy regularly, can relieve ulcer pains. 6)Seek medical help, if conditions persist or continue to worsen']\n",
            "[\"1)Hydrocortisone cream. 2)Ointments like calamine lotion. 3)Antihistamines. 4)Cold compresses. 5)Oatmeal baths. 6)Talk to your doctor about what's best for your specific rash.\"]\n",
            "['1)Provide clear fluids to sip, such as water, broth, or fruit juice diluted with water. 2)Serve bland foods, such as saltine crackers, plain bread, dry toast, rice, gelatin, or applesauce. 3)Avoid spicy or greasy foods and caffeinated or carbonated drinks until 48 hours after all symptoms have gone away. ']\n",
            "['1)Ice the bruise with an ice pack wrapped in a towel. 2)Leave it in place for 10 to 20 minutes. 3)Repeat several times a day for a day or two as needed. 4)Compress the bruised area if it is swelling, using an elastic bandage. ']\n",
            "['1)To help decrease pain and swelling in a broken toe, elevate the foot, ice the injury, and stay off the foot. 2)Depending on the severity of the fracture, the toe may need to be put back into place (reduced), and some compound toe fractures may require surgery.3) Most broken toes heal without complications in six weeks.']\n",
            "[\"1)Encourage them to keep coughing to try to clear the blockage. 2)Ask them to try to spit out the object if it's in their mouth. 3)If coughing doesn't work, start back blows and Abdonominal thrusts\"]\n",
            "['1)Rinse the cut or wound with water and apply pressure with sterile gauze, a bandage, or a clean cloth. 2)If blood soaks through the bandage, place another bandage on top of the first and keep applying pressure. 3)Raise the injured body part to slow bleeding. 4)When bleeding stops, cover the wound with a new, clean bandage.']\n",
            "['1)Hydrating the body is essential for recovering from diarrhea.This causes the body to lose electrolytes such as sodium and chloride. 2)It is highly recommended to avoid dairy products, as they may worsen diarrhea in some people. 3)However, if diarrhea lasts for more than 2 days, seek medical advice to avoid complications.']\n",
            "[' ']\n",
            "[' ']\n",
            "[' ']\n",
            "[' ']\n",
            "[' ']\n",
            "[' ']\n",
            "[' ']\n",
            "[' ']\n",
            "[' ']\n",
            "[' ']\n",
            "[' ']\n",
            "[' ']\n",
            "[' ']\n",
            "[' ']\n",
            "[' ']\n",
            "[' ']\n",
            "[' ']\n",
            "[' ']\n",
            "['Give ibuprofen (Advil, Motrin), aspirin, or acetaminophen (Tylenol) for pain. Avoid ibuprofen and other NSAIDs if the person has heart failure or kidney failure. Do not give aspirin to a child under age 18.']\n",
            "[\"1)Keeping hydrated is absolutely vital to help 'flush' out the cold, as well as to break down congestion and keep your throat lubricated. 2)Vitamin C is extremely helpful when fighting infection, so at the first sign of a cold be sure to increase your intake by eating plenty of berries, citrus fruits, papayas, broccoli and red peppers which will help keep you protected. 3)When it comes to combating a cold,Vitamin D is essential in helping to regulate immune response.\"]\n",
            "['1)Olive oil helps in healing and promotes skin renewal given it is packed with vitamin E and antioxidants. It also soothes the skin and reduces itching. 2)Baking soda is useful in drying skin rashes as also in relieving itching and inflammation. 3)Aloe Vera,Thanks to its antibacterial, antifungal, anti-inflammatory and emollient properties, aloe vera is excellent for treating a number of skin ailments including rashes as also soothing the skin.']\n",
            "['While waiting for medical help: 1)Move the person beyond striking distance of the snake. 2)Have the person lie down with wound below the heart. 3)Keep the person calm and at rest, remaining as still as possible to keep venom from spreading. 4)Cover the wound with loose, sterile bandage. 5)Remove any jewelry from the area that was bitten. 6)Remove shoes if the leg or foot was bitten.']\n",
            "['1)Wash the wound with soap and warm water. 2)Gently press a clean cloth over the wound to stop the flow of blood. 3)Apply an antibacterial ointment to the wound. 4)Cover with a sterile bandage. 5)Watch for signs of infection. 6)Seek help if you suspect infection or possible exposure to rabies, or if the wound is severe.']\n",
            "[\"1)Place your ear next to the person's mouth and nose. Do you feel air on your cheek? 2)Look to see if the person's chest is moving.If the Person is Not Breathing, Check Pulse. 3)Check the person's pulse for 10 seconds.If There is No Pulse, Start CPR.\"]\n",
            "['1)For an adult or child, place the heel of one hand on the center of the chest at the nipple line. You can also push with one hand on top of the other. For an infant, place two fingers on the breastbone. 2)For an adult or child, press down at least 2 inches. Make sure not to press on ribs. For an infant, press down about 1 and 1/2 inches. Make sure not to press on the end of the breastbone. 3)Do chest compressions only, at the rate of 100-120 per minute or more. Let the chest rise completely between pushes. 4)Check to see if the person has started breathing.']\n",
            "[\"1)Stop any bleeding. Apply pressure to the wound with a sterile bandage, a clean cloth or a clean piece of clothing. 2)Immobilize the injured area. Don't try to realign the bone or push a bone that's sticking out back in. If you've been trained in how to splint and professional help isn't readily available, apply a splint to the area above and below the fracture sites. Padding the splints can help reduce discomfort. 3)Apply ice packs to limit swelling and help relieve pain. Don't apply ice directly to the skin. Wrap the ice in a towel, piece of cloth or some other material. 4)Treat for shock. If the person feels faint or is breathing in short, rapid breaths, lay the person down with the head slightly lower than the trunk and, if possible, elevate the legs.\"]\n"
          ],
          "name": "stdout"
        }
      ]
    },
    {
      "cell_type": "code",
      "metadata": {
        "colab": {
          "base_uri": "https://localhost:8080/"
        },
        "id": "b5foC0_cmN29",
        "outputId": "91bf057f-e13a-41c4-aa9d-6b765778cf1d"
      },
      "source": [
        "  #List Comprehension\n",
        "a = [i**2 for i in range(10) if i%2==0]\n",
        "print(a)\n",
        "\n",
        "del(a[4]) #Removes the value with that index\n",
        "a.pop(3) #Removes the value with that index\n",
        "a.remove(4) #Removes the first occurence of that value"
      ],
      "execution_count": null,
      "outputs": [
        {
          "output_type": "stream",
          "text": [
            "[0, 4, 16, 36, 64]\n"
          ],
          "name": "stdout"
        }
      ]
    },
    {
      "cell_type": "markdown",
      "metadata": {
        "id": "L_eDpwgDS3zj"
      },
      "source": [
        "# Playing with Data"
      ]
    },
    {
      "cell_type": "code",
      "metadata": {
        "id": "SPAxBKTTmzvS",
        "colab": {
          "base_uri": "https://localhost:8080/"
        },
        "outputId": "0fb61418-330f-425f-ba8f-d646556b3c6e"
      },
      "source": [
        "words = []\n",
        "labels = []\n",
        "docs_x = []\n",
        "docs_y = []\n",
        "\n",
        "for intent in data['intents']:\n",
        "  for pattern in intent['patterns']:\n",
        "    wrds = nltk.word_tokenize(pattern)\n",
        "    words.extend(wrds)\n",
        "    docs_x.append(wrds)\n",
        "    docs_y.append(intent['tag'])\n",
        "  \n",
        "  if intent['tag'] not in labels:\n",
        "    labels.append(intent['tag'])\n",
        "\n",
        "words = [stemmer.stem(w.lower()) for w in words if w != '?']\n",
        "print(words)\n",
        "\n",
        "words = sorted(list(set(words))) #Converting words list to a set (to remove duplicate values) and then making it back a list and then sorting it\n",
        "print(words)\n",
        "\n",
        "labels = sorted(labels)"
      ],
      "execution_count": null,
      "outputs": [
        {
          "output_type": "stream",
          "text": [
            "['what', 'to', 'do', 'if', 'cut', 'how', 'to', 'cur', 'cut', 'which', 'medicin', 'to', 'apply', 'for', 'cut', 'what', 'to', 'apply', 'on', 'cut', 'cut', 'how', 'do', 'you', 'tre', 'abras', 'do', 'abras', 'caus', 'scar', 'abras', 'what', 'to', 'do', 'if', 'abras', 'which', 'medicin', 'to', 'apply', 'for', 'abras', 'how', 'to', 'cur', 'abras', 'how', 'do', 'you', 'tre', 'sting', 'sting', 'what', 'to', 'do', 'if', 'you', 'get', 'a', 'sting', 'which', 'medicin', 'to', 'apply', 'if', 'sting', 'how', 'to', 'remov', 'splinters', 'how', 'to', 'cur', 'splinters', 'what', 'to', 'do', 'if', 'i', 'hav', 'splinters', 'how', 'do', 'you', 'bring', 'a', 'splinter', 'to', 'the', 'surfac', 'how', 'do', 'you', 'tre', 'a', 'sprain', 'what', 'to', 'do', 'if', 'i', 'get', 'a', 'sprain', 'which', 'cream', 'to', 'apply', 'if', 'i', 'get', 'a', 'sprain', 'which', 'medicin', 'to', 'apply', 'if', 'i', 'get', 'a', 'sprain', 'how', 'do', 'you', 'tre', 'a', 'strain', 'what', 'to', 'do', 'if', 'i', 'get', 'a', 'strain', 'which', 'cream', 'to', 'apply', 'if', 'i', 'get', 'a', 'strain', 'which', 'medicin', 'to', 'apply', 'if', 'i', 'get', 'a', 'strain', 'how', 'do', 'you', 'diagnos', 'a', 'strain', 'is', 'heat', 'or', 'ic', 'bet', 'for', 'a', 'pul', 'musc', 'how', 'do', 'you', 'tre', 'a', 'mild', 'fev', 'what', 'to', 'do', 'if', 'i', 'get', 'a', 'mild', 'fev', 'which', 'medicin', 'to', 'tak', 'if', 'i', 'get', 'a', 'mild', 'fev', 'fev', 'how', 'do', 'you', 'tre', 'nas', 'congest', 'what', 'to', 'do', 'if', 'i', 'get', 'a', 'nas', 'congest', 'which', 'medicin', 'to', 'tak', 'if', 'i', 'hav', 'a', 'nas', 'congest', 'what', 'to', 'do', 'if', 'i', 'hav', 'a', 'block', 'nos', 'how', 'do', 'you', 'tre', 'a', 'block', 'nos', 'how', 'long', 'doe', 'nas', 'congest', 'last', 'how', 'to', 'cur', 'cough', 'how', 'do', 'you', 'tre', 'cough', 'what', 'to', 'do', 'if', 'i', 'get', 'a', 'cough', 'which', 'medicin', 'to', 'tak', 'if', 'i', 'get', 'cough', 'how', 'do', 'you', 'get', 'rid', 'of', 'cough', 'how', 'do', 'you', 'tre', 'sor', 'throat', 'what', 'to', 'do', 'if', 'i', 'get', 'a', 'sor', 'throat', 'which', 'medicin', 'to', 'tak', 'if', 'i', 'get', 'a', 'sor', 'throat', 'how', 'to', 'cur', 'sor', 'throat', 'how', 'do', 'you', 'tre', 'gas', 'problem', 'what', 'to', 'do', 'if', 'i', 'hav', 'gastrointestin', 'problem', 'which', 'medicin', 'to', 'tak', 'if', 'i', 'get', 'gas', 'problem', 'how', 'to', 'cur', 'gas', 'problem', 'how', 'do', 'you', 'tre', 'skin', 'problem', 'what', 'to', 'do', 'if', 'i', 'get', 'a', 'skin', 'allergy', 'which', 'medicin', 'to', 'tak', 'if', 'i', 'get', 'a', 'skin', 'allergy', 'how', 'to', 'cur', 'skin', 'allergy', 'how', 'do', 'you', 'tre', 'abdonomin', 'pain', 'what', 'to', 'do', 'if', 'i', 'get', 'a', 'abdonomin', 'pain', 'which', 'medicin', 'to', 'tak', 'if', 'i', 'get', 'a', 'abdonomin', 'pain', 'how', 'to', 'cur', 'abdonomin', 'pain', 'how', 'do', 'you', 'tre', 'bru', 'what', 'to', 'do', 'if', 'i', 'get', 'a', 'bru', 'which', 'medicin', 'to', 'tak', 'if', 'i', 'get', 'a', 'bru', 'how', 'to', 'cur', 'bru', 'how', 'do', 'you', 'tre', 'a', 'brok', 'toe', 'what', 'to', 'do', 'if', 'i', 'get', 'a', 'brok', 'toe', 'which', 'medicin', 'to', 'tak', 'if', 'i', 'get', 'a', 'brok', 'toe', 'how', 'to', 'cur', 'brok', 'toe', 'how', 'do', 'you', 'tre', 'chok', 'what', 'to', 'do', 'if', 'i', 'get', 'a', 'chok', 'which', 'medicin', 'to', 'tak', 'if', 'i', 'get', 'chok', 'how', 'to', 'cur', 'chok', 'how', 'do', 'you', 'tre', 'a', 'wound', 'what', 'to', 'do', 'if', 'i', 'get', 'a', 'wound', 'which', 'medicin', 'to', 'tak', 'if', 'i', 'get', 'wound', 'how', 'to', 'cur', 'a', 'wound', 'how', 'do', 'you', 'tre', 'diarrhe', 'what', 'to', 'do', 'if', 'i', 'get', 'diarrhe', 'which', 'medicin', 'to', 'tak', 'if', 'i', 'get', 'diarrhe', 'how', 'to', 'cur', 'diarrhe', 'how', 'do', 'you', 'tre', 'a', 'frost', 'bit', 'what', 'to', 'do', 'if', 'i', 'get', 'a', 'frost', 'bit', 'which', 'medicin', 'to', 'tak', 'if', 'i', 'get', 'a', 'frost', 'bit', 'how', 'to', 'cur', 'frost', 'bit', 'how', 'do', 'you', 'tre', 'heat', 'exhaust', 'what', 'to', 'do', 'if', 'i', 'feel', 'exhaust', 'due', 'to', 'heat', 'which', 'medicin', 'to', 'tak', 'if', 'i', 'get', 'exhaust', 'how', 'to', 'cur', 'heat', 'exhaust', 'how', 'do', 'you', 'tre', 'heat', 'stroke', 'what', 'to', 'do', 'if', 'i', 'get', 'a', 'heat', 'stroke', 'which', 'medicin', 'to', 'tak', 'if', 'i', 'get', 'stroke', 'how', 'to', 'cur', 'a', 'heat', 'stroke', 'how', 'do', 'you', 'tre', 'a', 'insect', 'bit', 'what', 'to', 'do', 'if', 'a', 'insect', 'bit', 'me', 'which', 'medicin', 'to', 'tak', 'if', 'i', 'get', 'bit', 'by', 'a', 'insect', 'how', 'to', 'cur', 'insect', 'bit', 'how', 'do', 'you', 'tre', 'a', 'blee', 'nos', 'what', 'to', 'do', 'if', 'i', 'my', 'nos', 'is', 'blee', 'which', 'medicin', 'to', 'tak', 'if', 'i', 'get', 'nos', 'blee', 'how', 'to', 'cur', 'nos', 'blee', 'how', 'do', 'you', 'tre', 'a', 'pul', 'musc', 'what', 'to', 'do', 'if', 'my', 'musc', 'is', 'pul', 'which', 'medicin', 'to', 'tak', 'if', 'i', 'got', 'pul', 'musc', 'how', 'to', 'cur', 'a', 'pul', 'musc', 'how', 'do', 'you', 'tre', 'rect', 'blee', 'what', 'to', 'do', 'if', 'i', 'get', 'a', 'rect', 'blee', 'which', 'medicin', 'to', 'tak', 'if', 'i', 'get', 'rect', 'blee', 'how', 'to', 'cur', 'rect', 'blee', 'how', 'do', 'you', 'tre', 'sun', 'burn', 'what', 'to', 'do', 'if', 'i', 'get', 'a', 'sun', 'burn', 'which', 'medicin', 'to', 'tak', 'if', 'i', 'get', 'sun', 'burn', 'how', 'to', 'cur', 'a', 'sun', 'burn', 'how', 'do', 'you', 'tre', 'testic', 'pain', 'what', 'to', 'do', 'if', 'i', 'get', 'a', 'testic', 'pain', 'which', 'medicin', 'to', 'tak', 'if', 'i', 'get', 'a', 'testic', 'pain', 'how', 'to', 'cur', 'testic', 'pain', 'how', 'do', 'you', 'tre', 'a', 'vertigo', 'what', 'to', 'do', 'if', 'i', 'get', 'a', 'vertigo', 'which', 'medicin', 'to', 'tak', 'if', 'i', 'get', 'vertigo', 'how', 'to', 'cur', 'a', 'vertigo', 'how', 'do', 'you', 'tre', 'blee', 'what', 'to', 'do', 'if', 'i', 'get', 'a', 'blee', 'which', 'medicin', 'to', 'tak', 'if', 'i', 'get', 'blee', 'how', 'to', 'cur', 'blee', 'how', 'do', 'you', 'tre', 'an', 'ey', 'injury', 'what', 'to', 'do', 'if', 'i', 'get', 'a', 'ey', 'injury', 'which', 'medicin', 'to', 'tak', 'if', 'i', 'ind', 'my', 'ey', 'how', 'to', 'cur', 'ind', 'ey', 'how', 'do', 'you', 'tre', 'a', 'chem', 'burn', 'what', 'to', 'do', 'if', 'i', 'get', 'a', 'chem', 'burn', 'which', 'medicin', 'to', 'tak', 'if', 'i', 'get', 'burn', 'due', 'to', 'chem', 'how', 'to', 'cur', 'chem', 'burn', 'how', 'do', 'you', 'tre', 'a', 'poison', 'what', 'to', 'do', 'if', 'i', 'get', 'poison', 'which', 'medicin', 'to', 'tak', 'if', 'i', 'am', 'poison', 'how', 'to', 'cur', 'poison', 'how', 'do', 'you', 'tre', 'brok', 'tee', 'what', 'to', 'do', 'if', 'my', 'tee', 'got', 'brok', 'which', 'medicin', 'to', 'tak', 'if', 'i', 'get', 'brok', 'tee', 'cur', 'brok', 'tee', 'how', 'do', 'you', 'tre', 'a', 'seiz', 'what', 'to', 'do', 'if', 'i', 'get', 'a', 'seiz', 'which', 'medicin', 'to', 'tak', 'if', 'i', 'get', 'seiz', 'how', 'to', 'cur', 'seiz', 'how', 'do', 'you', 'tre', 'a', 'head', 'injury', 'what', 'to', 'do', 'if', 'i', 'get', 'a', 'head', 'injury', 'which', 'medicin', 'to', 'tak', 'if', 'i', 'get', 'ind', 'in', 'the', 'head', 'how', 'to', 'cur', 'head', 'injury', 'how', 'do', 'you', 'tre', 'faint', 'what', 'to', 'do', 'if', 'i', 'feel', 'lik', 'faint', 'which', 'medicin', 'to', 'tak', 'if', 'i', 'get', 'a', 'faint', 'how', 'to', 'cur', 'faint', 'how', 'do', 'you', 'tre', 'a', 'mild', 'headach', 'what', 'to', 'do', 'if', 'i', 'get', 'a', 'mild', 'headach', 'which', 'medicin', 'to', 'tak', 'if', 'i', 'hav', 'a', 'mild', 'headach', 'how', 'to', 'cur', 'a', 'mild', 'headach', 'how', 'do', 'you', 'tre', 'a', 'cold', 'what', 'to', 'do', 'if', 'i', 'get', 'a', 'mild', 'cold', 'which', 'medicin', 'to', 'tak', 'if', 'i', 'hav', 'a', 'cold', 'how', 'to', 'cur', 'cold', 'how', 'do', 'you', 'tre', 'rash', 'what', 'to', 'do', 'if', 'i', 'get', 'a', 'rash', 'which', 'medicin', 'to', 'tak', 'if', 'i', 'hav', 'a', 'rash', 'how', 'to', 'cur', 'rash', 'how', 'do', 'you', 'tre', 'a', 'snak', 'bit', 'what', 'to', 'do', 'if', 'i', 'get', 'a', 'snak', 'bit', 'which', 'medicin', 'to', 'tak', 'if', 'i', 'get', 'a', 'snak', 'bit', 'how', 'to', 'cur', 'snak', 'bit', 'i', 'got', 'bit', 'by', 'a', 'snak', 'how', 'do', 'you', 'tre', 'a', 'anim', 'bit', 'how', 'do', 'you', 'tre', 'a', 'monkey', 'bit', 'how', 'do', 'you', 'tre', 'a', 'dog', 'bit', 'what', 'to', 'do', 'if', 'i', 'get', 'a', 'anim', 'bit', 'which', 'medicin', 'to', 'tak', 'if', 'i', 'get', 'a', 'monekey', 'bit', 'how', 'to', 'cur', 'dog', 'bit', 'i', 'got', 'bit', 'by', 'a', 'dog', 'what', 'to', 'do', 'if', 'someon', 'is', 'drown', 'what', 'to', 'do', 'if', 'someon', 'drown', 'what', 'step', 'to', 'tak', 'if', 'i', 'see', 'a', 'drown', 'person', 'how', 'to', 'help', 'a', 'drown', 'person', 'how', 'to', 'giv', 'cpr', 'what', 'to', 'do', 'in', 'a', 'cpr', 'what', 'step', 'to', 'tak', 'in', 'a', 'cpr', 'how', 'to', 'help', 'a', 'drown', 'person', 'in', 'cpr', 'how', 'do', 'you', 'tre', 'a', 'fract', 'what', 'to', 'do', 'if', 'i', 'get', 'a', 'fract', 'which', 'medicin', 'to', 'tak', 'if', 'i', 'hav', 'a', 'fract', 'how', 'to', 'cur', 'a', 'fract']\n",
            "['a', 'abdonomin', 'abras', 'allergy', 'am', 'an', 'anim', 'apply', 'bet', 'bit', 'blee', 'block', 'bring', 'brok', 'bru', 'burn', 'by', 'caus', 'chem', 'chok', 'cold', 'congest', 'cough', 'cpr', 'cream', 'cur', 'cut', 'diagnos', 'diarrhe', 'do', 'doe', 'dog', 'drown', 'due', 'exhaust', 'ey', 'faint', 'feel', 'fev', 'for', 'fract', 'frost', 'gas', 'gastrointestin', 'get', 'giv', 'got', 'hav', 'head', 'headach', 'heat', 'help', 'how', 'i', 'ic', 'if', 'in', 'ind', 'injury', 'insect', 'is', 'last', 'lik', 'long', 'me', 'medicin', 'mild', 'monekey', 'monkey', 'musc', 'my', 'nas', 'nos', 'of', 'on', 'or', 'pain', 'person', 'poison', 'problem', 'pul', 'rash', 'rect', 'remov', 'rid', 'scar', 'see', 'seiz', 'skin', 'snak', 'someon', 'sor', 'splinter', 'splinters', 'sprain', 'step', 'sting', 'strain', 'stroke', 'sun', 'surfac', 'tak', 'tee', 'testic', 'the', 'throat', 'to', 'toe', 'tre', 'vertigo', 'what', 'which', 'wound', 'you']\n"
          ],
          "name": "stdout"
        }
      ]
    },
    {
      "cell_type": "code",
      "metadata": {
        "colab": {
          "base_uri": "https://localhost:8080/"
        },
        "id": "MXlImOA_A7MC",
        "outputId": "235fcbb3-7c95-4bff-f233-f385db241dce"
      },
      "source": [
        "print(words)\n",
        "print(docs_x)\n",
        "print(docs_y)\n",
        "print(labels)"
      ],
      "execution_count": null,
      "outputs": [
        {
          "output_type": "stream",
          "text": [
            "['a', 'abdonomin', 'abras', 'allergy', 'am', 'an', 'anim', 'apply', 'bet', 'bit', 'blee', 'block', 'bring', 'brok', 'bru', 'burn', 'by', 'caus', 'chem', 'chok', 'cold', 'congest', 'cough', 'cpr', 'cream', 'cur', 'cut', 'diagnos', 'diarrhe', 'do', 'doe', 'dog', 'drown', 'due', 'exhaust', 'ey', 'faint', 'feel', 'fev', 'for', 'fract', 'frost', 'gas', 'gastrointestin', 'get', 'giv', 'got', 'hav', 'head', 'headach', 'heat', 'help', 'how', 'i', 'ic', 'if', 'in', 'ind', 'injury', 'insect', 'is', 'last', 'lik', 'long', 'me', 'medicin', 'mild', 'monekey', 'monkey', 'musc', 'my', 'nas', 'nos', 'of', 'on', 'or', 'pain', 'person', 'poison', 'problem', 'pul', 'rash', 'rect', 'remov', 'rid', 'scar', 'see', 'seiz', 'skin', 'snak', 'someon', 'sor', 'splinter', 'splinters', 'sprain', 'step', 'sting', 'strain', 'stroke', 'sun', 'surfac', 'tak', 'tee', 'testic', 'the', 'throat', 'to', 'toe', 'tre', 'vertigo', 'what', 'which', 'wound', 'you']\n",
            "[['What', 'to', 'do', 'if', 'Cuts', '?'], ['How', 'to', 'cure', 'Cuts', '?'], ['Which', 'medicine', 'to', 'apply', 'for', 'Cuts', '?'], ['what', 'to', 'apply', 'on', 'cuts', '?'], ['Cuts'], ['how', 'do', 'you', 'treat', 'abrasions', '?'], ['Do', 'Abrasions', 'cause', 'scars', '?'], ['Abrasions'], ['what', 'to', 'do', 'if', 'abrasions', '?'], ['Which', 'medicine', 'to', 'apply', 'for', 'abrasions', '?'], ['How', 'to', 'cure', 'abrasions', '?'], ['How', 'do', 'you', 'treat', 'Sting', '?'], ['Stings'], ['What', 'to', 'do', 'if', 'you', 'get', 'a', 'sting', '?'], ['Which', 'medicine', 'to', 'apply', 'if', 'sting', '?'], ['How', 'to', 'remove', 'Splinters'], ['How', 'to', 'cure', 'Splinters', '?'], ['What', 'to', 'do', 'if', 'I', 'have', 'splinters', '?'], ['How', 'do', 'you', 'bring', 'a', 'splinter', 'to', 'the', 'surface', '?'], ['How', 'do', 'you', 'treat', 'a', 'sprain', '?'], ['what', 'to', 'do', 'if', 'i', 'get', 'a', 'sprain', '?'], ['Which', 'cream', 'to', 'apply', 'if', 'i', 'get', 'a', 'sprain', '?'], ['Which', 'medicine', 'to', 'apply', 'if', 'I', 'get', 'a', 'sprain', '?'], ['How', 'do', 'you', 'treat', 'a', 'strain', '?'], ['what', 'to', 'do', 'if', 'i', 'get', 'a', 'strain', '?'], ['Which', 'cream', 'to', 'apply', 'if', 'i', 'get', 'a', 'strain', '?'], ['Which', 'medicine', 'to', 'apply', 'if', 'I', 'get', 'a', 'strain', '?'], ['How', 'do', 'you', 'diagnose', 'a', 'strain', '?'], ['Is', 'heat', 'or', 'ice', 'better', 'for', 'a', 'pulled', 'muscle', '?'], ['How', 'do', 'you', 'treat', 'a', 'mild', 'Fever', '?'], ['what', 'to', 'do', 'if', 'i', 'get', 'a', 'mild', 'fever', '?'], ['Which', 'medicine', 'to', 'take', 'if', 'I', 'get', 'a', 'mild', 'fever', '?'], ['fever'], ['How', 'do', 'you', 'treat', 'nasal', 'Congestion', '?'], ['what', 'to', 'do', 'if', 'i', 'get', 'a', 'nasal', 'congestion', '?'], ['Which', 'medicine', 'to', 'take', 'if', 'I', 'have', 'a', 'nasal', 'congestion', '?'], ['what', 'to', 'do', 'if', 'i', 'have', 'a', 'blocked', 'nose', '?'], ['How', 'do', 'you', 'treat', 'a', 'blocked', 'nose', '?'], ['How', 'long', 'does', 'nasal', 'congestion', 'last', '?'], ['How', 'to', 'cure', 'cough', '?'], ['How', 'do', 'you', 'treat', 'cough', '?'], ['what', 'to', 'do', 'if', 'i', 'get', 'a', 'cough', '?'], ['Which', 'medicine', 'to', 'take', 'if', 'I', 'get', 'cough', '?'], ['How', 'do', 'you', 'get', 'rid', 'of', 'cough', '?'], ['How', 'do', 'you', 'treat', 'sore', 'throat', '?'], ['what', 'to', 'do', 'if', 'i', 'get', 'a', 'sore', 'throat', '?'], ['Which', 'medicine', 'to', 'take', 'if', 'I', 'get', 'a', 'sore', 'throat', '?'], ['How', 'to', 'cure', 'sore', 'throat', '?'], ['How', 'do', 'you', 'treat', 'gas', 'problems', '?'], ['what', 'to', 'do', 'if', 'i', 'have', 'Gastrointestinal', 'problems', '?'], ['Which', 'medicine', 'to', 'take', 'if', 'I', 'get', 'gas', 'problem', '?'], ['How', 'to', 'cure', 'Gas', 'problems', '?'], ['How', 'do', 'you', 'treat', 'Skin', 'problems', '?'], ['what', 'to', 'do', 'if', 'i', 'get', 'a', 'skin', 'allergy', '?'], ['Which', 'medicine', 'to', 'take', 'if', 'I', 'get', 'a', 'skin', 'allergy', '?'], ['How', 'to', 'cure', 'skin', 'allergy', '?'], ['How', 'do', 'you', 'treat', 'Abdonominal', 'Pain', '?'], ['what', 'to', 'do', 'if', 'i', 'get', 'a', 'Abdonominal', 'Pain', '?'], ['Which', 'medicine', 'to', 'take', 'if', 'I', 'get', 'a', 'Abdonominal', 'Pain', '?'], ['How', 'to', 'cure', 'Abdonominal', 'Pain', '?'], ['How', 'do', 'you', 'treat', 'Bruises', '?'], ['what', 'to', 'do', 'if', 'i', 'get', 'a', 'Bruise', '?'], ['Which', 'medicine', 'to', 'take', 'if', 'I', 'get', 'a', 'Bruise', '?'], ['How', 'to', 'cure', 'Bruises', '?'], ['How', 'do', 'you', 'treat', 'a', 'Broken', 'Toe', '?'], ['what', 'to', 'do', 'if', 'i', 'get', 'a', 'Broken', 'Toe', '?'], ['Which', 'medicine', 'to', 'take', 'if', 'I', 'get', 'a', 'Broken', 'Toe', '?'], ['How', 'to', 'cure', 'Broken', 'Toe', '?'], ['How', 'do', 'you', 'treat', 'Choking', '?'], ['what', 'to', 'do', 'if', 'i', 'get', 'a', 'Choke', '?'], ['Which', 'medicine', 'to', 'take', 'if', 'I', 'get', 'Choked', '?'], ['How', 'to', 'cure', 'Choking', '?'], ['How', 'do', 'you', 'treat', 'a', 'wound', '?'], ['what', 'to', 'do', 'if', 'i', 'get', 'a', 'Wound', '?'], ['Which', 'medicine', 'to', 'take', 'if', 'I', 'get', 'wounded', '?'], ['How', 'to', 'cure', 'a', 'wound', '?'], ['How', 'do', 'you', 'treat', 'Diarrhea', '?'], ['what', 'to', 'do', 'if', 'i', 'get', 'Diarrhea', '?'], ['Which', 'medicine', 'to', 'take', 'if', 'I', 'get', 'Diarrhea', '?'], ['How', 'to', 'cure', 'Diarrhea', '?'], ['How', 'do', 'you', 'treat', 'a', 'Frost', 'bite', '?'], ['what', 'to', 'do', 'if', 'i', 'get', 'a', 'Frost', 'bite', '?'], ['Which', 'medicine', 'to', 'take', 'if', 'I', 'get', 'a', 'Frost', 'bite', '?'], ['How', 'to', 'cure', 'Frost', 'bite', '?'], ['How', 'do', 'you', 'treat', 'Heat', 'Exhaustion', '?'], ['what', 'to', 'do', 'if', 'i', 'feel', 'Exhausted', 'due', 'to', 'heat', '?'], ['Which', 'medicine', 'to', 'take', 'if', 'I', 'get', 'Exhausted', '?'], ['How', 'to', 'cure', 'Heat', 'Exhaustion', '?'], ['How', 'do', 'you', 'treat', 'Heat', 'Stroke', '?'], ['what', 'to', 'do', 'if', 'i', 'get', 'a', 'Heat', 'Stroke', '?'], ['Which', 'medicine', 'to', 'take', 'if', 'I', 'get', 'Stroke', '?'], ['How', 'to', 'cure', 'a', 'Heat', 'Stroke', '?'], ['How', 'do', 'you', 'treat', 'a', 'Insect', 'Bite', '?'], ['what', 'to', 'do', 'if', 'a', 'insect', 'bites', 'me', '?'], ['Which', 'medicine', 'to', 'take', 'if', 'I', 'get', 'bitten', 'by', 'a', 'insect', '?'], ['How', 'to', 'cure', 'insect', 'bite', '?'], ['How', 'do', 'you', 'treat', 'a', 'bleeding', 'nose', '?'], ['what', 'to', 'do', 'if', 'i', 'my', 'nose', 'is', 'bleeding', '?'], ['Which', 'medicine', 'to', 'take', 'if', 'I', 'get', 'nose', 'bleed', '?'], ['How', 'to', 'cure', 'nose', 'bleeding', '?'], ['How', 'do', 'you', 'treat', 'a', 'Pulled', 'Muscle', '?'], ['what', 'to', 'do', 'if', 'my', 'muscle', 'is', 'pulled', '?'], ['Which', 'medicine', 'to', 'take', 'if', 'I', 'got', 'pulled', 'muscle', '?'], ['How', 'to', 'cure', 'a', 'pulled', 'muscle', '?'], ['How', 'do', 'you', 'treat', 'Rectal', 'Bleeding', '?'], ['what', 'to', 'do', 'if', 'i', 'get', 'a', 'Rectal', 'Bleeding', '?'], ['Which', 'medicine', 'to', 'take', 'if', 'I', 'get', 'Rectal', 'Bleeding', '?'], ['How', 'to', 'cure', 'Rectal', 'Bleeding', '?'], ['How', 'do', 'you', 'treat', 'Sun', 'Burn', '?'], ['what', 'to', 'do', 'if', 'i', 'get', 'a', 'Sun', 'Burn', '?'], ['Which', 'medicine', 'to', 'take', 'if', 'I', 'get', 'Sun', 'Burn', '?'], ['How', 'to', 'cure', 'a', 'Sun', 'Burn', '?'], ['How', 'do', 'you', 'treat', 'Testicle', 'Pain', '?'], ['what', 'to', 'do', 'if', 'i', 'get', 'a', 'Testicle', 'Pain', '?'], ['Which', 'medicine', 'to', 'take', 'if', 'I', 'get', 'a', 'Testicle', 'Pain', '?'], ['How', 'to', 'cure', 'Testicle', 'Pain', '?'], ['How', 'do', 'you', 'treat', 'a', 'Vertigo', '?'], ['what', 'to', 'do', 'if', 'i', 'get', 'a', 'Vertigo', '?'], ['Which', 'medicine', 'to', 'take', 'if', 'I', 'get', 'Vertigo', '?'], ['How', 'to', 'cure', 'a', 'Vertigo', '?'], ['How', 'do', 'you', 'treat', 'bleeding', '?'], ['what', 'to', 'do', 'if', 'i', 'get', 'a', 'Bleeding', '?'], ['Which', 'medicine', 'to', 'take', 'if', 'I', 'get', 'bleeding', '?'], ['How', 'to', 'cure', 'Bleeding', '?'], ['How', 'do', 'you', 'treat', 'an', 'eye', 'Injury', '?'], ['what', 'to', 'do', 'if', 'i', 'get', 'a', 'eye', 'Injury', '?'], ['Which', 'medicine', 'to', 'take', 'if', 'I', 'injured', 'my', 'eye', '?'], ['How', 'to', 'cure', 'injured', 'eye', '?'], ['How', 'do', 'you', 'treat', 'a', 'chemical', 'burn', '?'], ['what', 'to', 'do', 'if', 'i', 'get', 'a', 'Chemical', 'Burn', '?'], ['Which', 'medicine', 'to', 'take', 'if', 'I', 'get', 'burn', 'due', 'to', 'chemicals', '?'], ['How', 'to', 'cure', 'Chemical', 'Burn', '?'], ['How', 'do', 'you', 'treat', 'a', 'Poison', '?'], ['what', 'to', 'do', 'if', 'i', 'get', 'Poison', '?'], ['Which', 'medicine', 'to', 'take', 'if', 'I', 'am', 'poisoned', '?'], ['How', 'to', 'cure', 'Poisoning', '?'], ['How', 'do', 'you', 'treat', 'broken', 'Teeth', '?'], ['what', 'to', 'do', 'if', 'my', 'Teeth', 'got', 'broken', '?'], ['Which', 'medicine', 'to', 'take', 'if', 'I', 'get', 'broken', 'teeth', '?'], ['cure', 'broken', 'teeth', '?'], ['How', 'do', 'you', 'treat', 'a', 'seizure', '?'], ['what', 'to', 'do', 'if', 'i', 'get', 'a', 'seizure', '?'], ['Which', 'medicine', 'to', 'take', 'if', 'I', 'get', 'seizure', '?'], ['How', 'to', 'cure', 'seizure', '?'], ['How', 'do', 'you', 'treat', 'a', 'head', 'Injury', '?'], ['what', 'to', 'do', 'if', 'i', 'get', 'a', 'Head', 'Injury', '?'], ['Which', 'medicine', 'to', 'take', 'if', 'I', 'get', 'injured', 'in', 'the', 'head', '?'], ['How', 'to', 'cure', 'Head', 'Injury', '?'], ['How', 'do', 'you', 'treat', 'Faint', '?'], ['what', 'to', 'do', 'if', 'i', 'feel', 'like', 'Fainting', '?'], ['Which', 'medicine', 'to', 'take', 'if', 'I', 'get', 'a', 'Faint', '?'], ['How', 'to', 'cure', 'Fainting', '?'], ['How', 'do', 'you', 'treat', 'a', 'mild', 'Headache', '?'], ['what', 'to', 'do', 'if', 'i', 'get', 'a', 'mild', 'Headache', '?'], ['Which', 'medicine', 'to', 'take', 'if', 'I', 'have', 'a', 'mild', 'headache', '?'], ['How', 'to', 'cure', 'a', 'mild', 'headache', '?'], ['How', 'do', 'you', 'treat', 'a', 'Cold', '?'], ['what', 'to', 'do', 'if', 'i', 'get', 'a', 'mild', 'Cold', '?'], ['Which', 'medicine', 'to', 'take', 'if', 'I', 'have', 'a', 'Cold', '?'], ['How', 'to', 'cure', 'Cold', '?'], ['How', 'do', 'you', 'treat', 'Rashes', '?'], ['what', 'to', 'do', 'if', 'i', 'get', 'a', 'Rash', '?'], ['Which', 'medicine', 'to', 'take', 'if', 'I', 'have', 'a', 'Rash', '?'], ['How', 'to', 'cure', 'Rash', '?'], ['How', 'do', 'you', 'treat', 'a', 'snake', 'bite', '?'], ['what', 'to', 'do', 'if', 'i', 'get', 'a', 'snake', 'bite', '?'], ['Which', 'medicine', 'to', 'take', 'if', 'I', 'get', 'a', 'snake', 'bite', '?'], ['How', 'to', 'cure', 'snake', 'bite', '?'], ['i', 'got', 'bit', 'by', 'a', 'snake'], ['How', 'do', 'you', 'treat', 'a', 'animal', 'bite', '?'], ['How', 'do', 'you', 'treat', 'a', 'monkey', 'bite', '?'], ['How', 'do', 'you', 'treat', 'a', 'dog', 'bite', '?'], ['what', 'to', 'do', 'if', 'i', 'get', 'a', 'animal', 'bite', '?'], ['Which', 'medicine', 'to', 'take', 'if', 'I', 'get', 'a', 'monekey', 'bite', '?'], ['How', 'to', 'cure', 'dog', 'bite', '?'], ['i', 'got', 'bit', 'by', 'a', 'dog'], ['What', 'to', 'do', 'if', 'someone', 'is', 'Drowning', '?'], ['what', 'to', 'do', 'if', 'someone', 'drowned', '?'], ['What', 'steps', 'to', 'take', 'if', 'i', 'see', 'a', 'drowning', 'person', '?'], ['How', 'to', 'help', 'a', 'drowning', 'person', '?'], ['How', 'to', 'give', 'CPR', '?', '?'], ['what', 'to', 'do', 'in', 'a', 'CPR', '?'], ['What', 'steps', 'to', 'take', 'in', 'a', 'CPR', '?', '?'], ['How', 'to', 'help', 'a', 'drowning', 'person', 'in', 'CPR', '?'], ['How', 'do', 'you', 'treat', 'a', 'Fracture', '?'], ['what', 'to', 'do', 'if', 'i', 'get', 'a', 'Fracture', '?'], ['Which', 'medicine', 'to', 'take', 'if', 'I', 'have', 'a', 'Fracture', '?'], ['How', 'to', 'cure', 'a', 'Fracture', '?']]\n",
            "['Cuts', 'Cuts', 'Cuts', 'Cuts', 'Cuts', 'Abrasions', 'Abrasions', 'Abrasions', 'Abrasions', 'Abrasions', 'Abrasions', 'stings', 'stings', 'stings', 'stings', 'Splinter', 'Splinter', 'Splinter', 'Splinter', 'Sprains', 'Sprains', 'Sprains', 'Sprains', 'Strains', 'Strains', 'Strains', 'Strains', 'Strains', 'Strains', 'Fever', 'Fever', 'Fever', 'Fever', 'Nasal Congestion', 'Nasal Congestion', 'Nasal Congestion', 'Nasal Congestion', 'Nasal Congestion', 'Nasal Congestion', 'Cough', 'Cough', 'Cough', 'Cough', 'Cough', 'Sore Throat', 'Sore Throat', 'Sore Throat', 'Sore Throat', 'Gastrointestinal problems', 'Gastrointestinal problems', 'Gastrointestinal problems', 'Gastrointestinal problems', 'Skin problems', 'Skin problems', 'Skin problems', 'Skin problems', 'Abdonominal Pain', 'Abdonominal Pain', 'Abdonominal Pain', 'Abdonominal Pain', 'Bruises', 'Bruises', 'Bruises', 'Bruises', 'Broken Toe', 'Broken Toe', 'Broken Toe', 'Broken Toe', 'Choking', 'Choking', 'Choking', 'Choking', 'Wound', 'Wound', 'Wound', 'Wound', 'Diarrhea', 'Diarrhea', 'Diarrhea', 'Diarrhea', 'Frost bite', 'Frost bite', 'Frost bite', 'Frost bite', 'Heat Exhaustion', 'Heat Exhaustion', 'Heat Exhaustion', 'Heat Exhaustion', 'Heat Stroke', 'Heat Stroke', 'Heat Stroke', 'Heat Stroke', 'Insect Bites', 'Insect Bites', 'Insect Bites', 'Insect Bites', 'nose bleed', 'nose bleed', 'nose bleed', 'nose bleed', 'Pulled Muscle', 'Pulled Muscle', 'Pulled Muscle', 'Pulled Muscle', 'Rectal bleeding', 'Rectal bleeding', 'Rectal bleeding', 'Rectal bleeding', 'Sun Burn', 'Sun Burn', 'Sun Burn', 'Sun Burn', 'Testicle Pain', 'Testicle Pain', 'Testicle Pain', 'Testicle Pain', 'Vertigo', 'Vertigo', 'Vertigo', 'Vertigo', 'Normal Bleeding', 'Normal Bleeding', 'Normal Bleeding', 'Normal Bleeding', 'Eye Injury', 'Eye Injury', 'Eye Injury', 'Eye Injury', 'Chemical Burn', 'Chemical Burn', 'Chemical Burn', 'Chemical Burn', 'Poison', 'Poison', 'Poison', 'Poison', 'Teeth', 'Teeth', 'Teeth', 'Teeth', 'seizure', 'seizure', 'seizure', 'seizure', 'Head Injury', 'Head Injury', 'Head Injury', 'Head Injury', 'Fainting', 'Fainting', 'Fainting', 'Fainting', 'Headache', 'Headache', 'Headache', 'Headache', 'Cold', 'Cold', 'Cold', 'Cold', 'Rash', 'Rash', 'Rash', 'Rash', 'snake bite', 'snake bite', 'snake bite', 'snake bite', 'snake bite', 'animal bite', 'animal bite', 'animal bite', 'animal bite', 'animal bite', 'animal bite', 'animal bite', 'Drowning', 'Drowning', 'Drowning', 'Drowning', 'CPR', 'CPR', 'CPR', 'CPR', 'Fracture', 'Fracture', 'Fracture', 'Fracture']\n",
            "['Abdonominal Pain', 'Abrasions', 'Broken Toe', 'Bruises', 'CPR', 'Chemical Burn', 'Choking', 'Cold', 'Cough', 'Cuts', 'Diarrhea', 'Drowning', 'Eye Injury', 'Fainting', 'Fever', 'Fracture', 'Frost bite', 'Gastrointestinal problems', 'Head Injury', 'Headache', 'Heat Exhaustion', 'Heat Stroke', 'Insect Bites', 'Nasal Congestion', 'Normal Bleeding', 'Poison', 'Pulled Muscle', 'Rash', 'Rectal bleeding', 'Skin problems', 'Sore Throat', 'Splinter', 'Sprains', 'Strains', 'Sun Burn', 'Teeth', 'Testicle Pain', 'Vertigo', 'Wound', 'animal bite', 'nose bleed', 'seizure', 'snake bite', 'stings']\n"
          ],
          "name": "stdout"
        }
      ]
    },
    {
      "cell_type": "markdown",
      "metadata": {
        "id": "JSY04vudSpgH"
      },
      "source": [
        "# Basic Data Pre-processing"
      ]
    },
    {
      "cell_type": "code",
      "metadata": {
        "id": "UI1bsBCsBLgF"
      },
      "source": [
        "training = []\n",
        "output = []\n",
        "\n",
        "out_empty = [0 for _ in range(len(labels))] #[1,2,3] [0,0,0]\n",
        "\n",
        "for x,doc in enumerate(docs_x):\n",
        "  bag = []\n",
        "\n",
        "  wrds = [stemmer.stem(w.lower()) for w in doc] # doc = ['What,'to','do','if','Cuts']\n",
        "\n",
        "  for w in words:\n",
        "    if w in wrds:\n",
        "      bag.append(1)\n",
        "    else:\n",
        "      bag.append(0)\n",
        "\n",
        "  output_row = out_empty[:]\n",
        "  output_row[labels.index(docs_y[x])] = 1\n",
        "\n",
        "  training.append(bag)\n",
        "  output.append(output_row)"
      ],
      "execution_count": null,
      "outputs": []
    },
    {
      "cell_type": "code",
      "metadata": {
        "colab": {
          "base_uri": "https://localhost:8080/"
        },
        "id": "8JLJGAVPGaGw",
        "outputId": "ae3a28ed-de5c-49ea-8481-4857ab013b33"
      },
      "source": [
        "print(training[0]) # Training-Manual One-hot encoding for the patterns\n",
        "print(output[0]) # Output-Manual One-hot encoding for the tags\n",
        "print(words)"
      ],
      "execution_count": null,
      "outputs": [
        {
          "output_type": "stream",
          "text": [
            "[0, 0, 0, 0, 0, 0, 0, 0, 0, 0, 0, 0, 0, 0, 0, 0, 0, 0, 0, 0, 0, 0, 0, 0, 0, 0, 1, 0, 0, 1, 0, 0, 0, 0, 0, 0, 0, 0, 0, 0, 0, 0, 0, 0, 0, 0, 0, 0, 0, 0, 0, 0, 0, 0, 0, 1, 0, 0, 0, 0, 0, 0, 0, 0, 0, 0, 0, 0, 0, 0, 0, 0, 0, 0, 0, 0, 0, 0, 0, 0, 0, 0, 0, 0, 0, 0, 0, 0, 0, 0, 0, 0, 0, 0, 0, 0, 0, 0, 0, 0, 0, 0, 0, 0, 0, 0, 1, 0, 0, 0, 1, 0, 0, 0]\n",
            "[0, 0, 0, 0, 0, 0, 0, 0, 0, 1, 0, 0, 0, 0, 0, 0, 0, 0, 0, 0, 0, 0, 0, 0, 0, 0, 0, 0, 0, 0, 0, 0, 0, 0, 0, 0, 0, 0, 0, 0, 0, 0, 0, 0]\n",
            "['a', 'abdonomin', 'abras', 'allergy', 'am', 'an', 'anim', 'apply', 'bet', 'bit', 'blee', 'block', 'bring', 'brok', 'bru', 'burn', 'by', 'caus', 'chem', 'chok', 'cold', 'congest', 'cough', 'cpr', 'cream', 'cur', 'cut', 'diagnos', 'diarrhe', 'do', 'doe', 'dog', 'drown', 'due', 'exhaust', 'ey', 'faint', 'feel', 'fev', 'for', 'fract', 'frost', 'gas', 'gastrointestin', 'get', 'giv', 'got', 'hav', 'head', 'headach', 'heat', 'help', 'how', 'i', 'ic', 'if', 'in', 'ind', 'injury', 'insect', 'is', 'last', 'lik', 'long', 'me', 'medicin', 'mild', 'monekey', 'monkey', 'musc', 'my', 'nas', 'nos', 'of', 'on', 'or', 'pain', 'person', 'poison', 'problem', 'pul', 'rash', 'rect', 'remov', 'rid', 'scar', 'see', 'seiz', 'skin', 'snak', 'someon', 'sor', 'splinter', 'splinters', 'sprain', 'step', 'sting', 'strain', 'stroke', 'sun', 'surfac', 'tak', 'tee', 'testic', 'the', 'throat', 'to', 'toe', 'tre', 'vertigo', 'what', 'which', 'wound', 'you']\n"
          ],
          "name": "stdout"
        }
      ]
    },
    {
      "cell_type": "code",
      "metadata": {
        "colab": {
          "base_uri": "https://localhost:8080/"
        },
        "id": "eHAiyRw6Kpyk",
        "outputId": "5a90e6f2-84db-4622-b64b-db2b3c1d81ab"
      },
      "source": [
        "print(len(training[0]))\n",
        "print(len(output[0]))"
      ],
      "execution_count": null,
      "outputs": [
        {
          "output_type": "stream",
          "text": [
            "114\n",
            "44\n"
          ],
          "name": "stdout"
        }
      ]
    },
    {
      "cell_type": "markdown",
      "metadata": {
        "id": "Hhs9vROoKKin"
      },
      "source": [
        "# Neural Networks"
      ]
    },
    {
      "cell_type": "code",
      "metadata": {
        "colab": {
          "base_uri": "https://localhost:8080/"
        },
        "id": "o-whR7XwDIL_",
        "outputId": "1f48cd6d-7717-40b4-a2e7-8991861cf45b"
      },
      "source": [
        "#Made by Me..............NOT USED........\n",
        "\n",
        "# Test_size=0.25 indicates that 25% of the datapoints will be in x_test and y_test whereas 75% will be in x_train and y_train.\n",
        "# random_state=10 is used to ensure that the split is the same everytime you run the code below. \n",
        "# This is because the split is done randomly everytime. The same random_state is the only way to ensure the same split everytime.\n",
        "x_train, x_test, y_train, y_test = train_test_split(training,output,test_size=0.275,random_state=10)\n",
        "\n",
        "# Check the number of rows in x_train, x_test, y_train and y_test\n",
        "\n",
        "#print(\"Number of rows in x_train:\", x_train.shape[0])\n",
        "#print(\"Number of rows in x_test:\", x_test.shape[0])\n",
        "#print(\"Number of rows in y_train:\", y_train.shape[0])\n",
        "#print(\"Number of rows in y_test:\", y_test.shape[0])\n",
        "print(\"Number of rows in x_train:\", len(x_train))\n",
        "print(\"Number of rows in x_test:\", len(x_test))\n",
        "print(\"Number of rows in y_train:\", len(y_train))\n",
        "print(\"Number of rows in y_test:\", len(y_test))"
      ],
      "execution_count": null,
      "outputs": [
        {
          "output_type": "stream",
          "text": [
            "Number of rows in x_train: 136\n",
            "Number of rows in x_test: 52\n",
            "Number of rows in y_train: 136\n",
            "Number of rows in y_test: 52\n"
          ],
          "name": "stdout"
        }
      ]
    },
    {
      "cell_type": "code",
      "metadata": {
        "id": "NXyxcEgeG60U"
      },
      "source": [
        "model = Sequential()\n",
        "\n",
        "model.add(Dense(8, activation='relu', input_shape=(114,)))\n",
        "#model.add(Dense(8,input_dim=114,activation='relu')) Same (for one value )\n",
        "model.add(Dense(32, activation='relu'))\n",
        "model.add(Dense(64, activation='relu'))\n",
        "model.add(Dense(44, activation='softmax'))"
      ],
      "execution_count": null,
      "outputs": []
    },
    {
      "cell_type": "code",
      "metadata": {
        "colab": {
          "base_uri": "https://localhost:8080/"
        },
        "id": "dFE45B8EL2A3",
        "outputId": "777b6dc4-5d57-467b-8afc-614d1ece3dab"
      },
      "source": [
        "model.compile(optimizer='adam',loss='categorical_crossentropy',metrics=['accuracy'])\n",
        "#model.compile(optimizer='adam',loss=\"sparse_categorical_crossentropy\",metrics=['accuracy'])\n",
        "#model.fit(x_train,y_train,epochs=100,shuffle=True,batch_size=32,validation_data=(x_test,y_test))\n",
        "model.fit(training,output,epochs=100,shuffle=True,batch_size=32)\n",
        "model.summary()"
      ],
      "execution_count": null,
      "outputs": [
        {
          "output_type": "stream",
          "text": [
            "Epoch 1/100\n",
            "6/6 [==============================] - 14s 3ms/step - loss: 3.7817 - accuracy: 0.0238\n",
            "Epoch 2/100\n",
            "6/6 [==============================] - 0s 3ms/step - loss: 3.7749 - accuracy: 0.0266\n",
            "Epoch 3/100\n",
            "6/6 [==============================] - 0s 3ms/step - loss: 3.7686 - accuracy: 0.0500\n",
            "Epoch 4/100\n",
            "6/6 [==============================] - 0s 3ms/step - loss: 3.7614 - accuracy: 0.0603\n",
            "Epoch 5/100\n",
            "6/6 [==============================] - 0s 3ms/step - loss: 3.7542 - accuracy: 0.0596\n",
            "Epoch 6/100\n",
            "6/6 [==============================] - 0s 3ms/step - loss: 3.7502 - accuracy: 0.0653\n",
            "Epoch 7/100\n",
            "6/6 [==============================] - 0s 3ms/step - loss: 3.7318 - accuracy: 0.0877\n",
            "Epoch 8/100\n",
            "6/6 [==============================] - 0s 3ms/step - loss: 3.7292 - accuracy: 0.0866\n",
            "Epoch 9/100\n",
            "6/6 [==============================] - 0s 3ms/step - loss: 3.7091 - accuracy: 0.0813\n",
            "Epoch 10/100\n",
            "6/6 [==============================] - 0s 3ms/step - loss: 3.6909 - accuracy: 0.0781\n",
            "Epoch 11/100\n",
            "6/6 [==============================] - 0s 3ms/step - loss: 3.6620 - accuracy: 0.0883\n",
            "Epoch 12/100\n",
            "6/6 [==============================] - 0s 3ms/step - loss: 3.6465 - accuracy: 0.0614\n",
            "Epoch 13/100\n",
            "6/6 [==============================] - 0s 3ms/step - loss: 3.6043 - accuracy: 0.1145\n",
            "Epoch 14/100\n",
            "6/6 [==============================] - 0s 3ms/step - loss: 3.5811 - accuracy: 0.1031\n",
            "Epoch 15/100\n",
            "6/6 [==============================] - 0s 3ms/step - loss: 3.5123 - accuracy: 0.1402\n",
            "Epoch 16/100\n",
            "6/6 [==============================] - 0s 3ms/step - loss: 3.4275 - accuracy: 0.1606\n",
            "Epoch 17/100\n",
            "6/6 [==============================] - 0s 3ms/step - loss: 3.3999 - accuracy: 0.1430\n",
            "Epoch 18/100\n",
            "6/6 [==============================] - 0s 3ms/step - loss: 3.3283 - accuracy: 0.1324\n",
            "Epoch 19/100\n",
            "6/6 [==============================] - 0s 3ms/step - loss: 3.2580 - accuracy: 0.1345\n",
            "Epoch 20/100\n",
            "6/6 [==============================] - 0s 3ms/step - loss: 3.1615 - accuracy: 0.1337\n",
            "Epoch 21/100\n",
            "6/6 [==============================] - 0s 3ms/step - loss: 3.0417 - accuracy: 0.1715\n",
            "Epoch 22/100\n",
            "6/6 [==============================] - 0s 3ms/step - loss: 2.9377 - accuracy: 0.1823\n",
            "Epoch 23/100\n",
            "6/6 [==============================] - 0s 3ms/step - loss: 2.8382 - accuracy: 0.2187\n",
            "Epoch 24/100\n",
            "6/6 [==============================] - 0s 3ms/step - loss: 2.7838 - accuracy: 0.2347\n",
            "Epoch 25/100\n",
            "6/6 [==============================] - 0s 3ms/step - loss: 2.6041 - accuracy: 0.2805\n",
            "Epoch 26/100\n",
            "6/6 [==============================] - 0s 3ms/step - loss: 2.5029 - accuracy: 0.3361\n",
            "Epoch 27/100\n",
            "6/6 [==============================] - 0s 3ms/step - loss: 2.4502 - accuracy: 0.3238\n",
            "Epoch 28/100\n",
            "6/6 [==============================] - 0s 3ms/step - loss: 2.3314 - accuracy: 0.4253\n",
            "Epoch 29/100\n",
            "6/6 [==============================] - 0s 3ms/step - loss: 2.1324 - accuracy: 0.4580\n",
            "Epoch 30/100\n",
            "6/6 [==============================] - 0s 3ms/step - loss: 2.0541 - accuracy: 0.5025\n",
            "Epoch 31/100\n",
            "6/6 [==============================] - 0s 3ms/step - loss: 1.9610 - accuracy: 0.5375\n",
            "Epoch 32/100\n",
            "6/6 [==============================] - 0s 3ms/step - loss: 1.8290 - accuracy: 0.6015\n",
            "Epoch 33/100\n",
            "6/6 [==============================] - 0s 3ms/step - loss: 1.6930 - accuracy: 0.6827\n",
            "Epoch 34/100\n",
            "6/6 [==============================] - 0s 3ms/step - loss: 1.5790 - accuracy: 0.7654\n",
            "Epoch 35/100\n",
            "6/6 [==============================] - 0s 3ms/step - loss: 1.4304 - accuracy: 0.8415\n",
            "Epoch 36/100\n",
            "6/6 [==============================] - 0s 3ms/step - loss: 1.3879 - accuracy: 0.8299\n",
            "Epoch 37/100\n",
            "6/6 [==============================] - 0s 3ms/step - loss: 1.2439 - accuracy: 0.8668\n",
            "Epoch 38/100\n",
            "6/6 [==============================] - 0s 3ms/step - loss: 1.1782 - accuracy: 0.9047\n",
            "Epoch 39/100\n",
            "6/6 [==============================] - 0s 3ms/step - loss: 1.0643 - accuracy: 0.9265\n",
            "Epoch 40/100\n",
            "6/6 [==============================] - 0s 4ms/step - loss: 0.9955 - accuracy: 0.9583\n",
            "Epoch 41/100\n",
            "6/6 [==============================] - 0s 3ms/step - loss: 0.9119 - accuracy: 0.9483\n",
            "Epoch 42/100\n",
            "6/6 [==============================] - 0s 3ms/step - loss: 0.8377 - accuracy: 0.9697\n",
            "Epoch 43/100\n",
            "6/6 [==============================] - 0s 3ms/step - loss: 0.7446 - accuracy: 0.9799\n",
            "Epoch 44/100\n",
            "6/6 [==============================] - 0s 3ms/step - loss: 0.7339 - accuracy: 0.9859\n",
            "Epoch 45/100\n",
            "6/6 [==============================] - 0s 3ms/step - loss: 0.6598 - accuracy: 0.9965\n",
            "Epoch 46/100\n",
            "6/6 [==============================] - 0s 3ms/step - loss: 0.5848 - accuracy: 0.9965\n",
            "Epoch 47/100\n",
            "6/6 [==============================] - 0s 3ms/step - loss: 0.5348 - accuracy: 0.9965\n",
            "Epoch 48/100\n",
            "6/6 [==============================] - 0s 3ms/step - loss: 0.4910 - accuracy: 0.9950\n",
            "Epoch 49/100\n",
            "6/6 [==============================] - 0s 3ms/step - loss: 0.4687 - accuracy: 0.9928\n",
            "Epoch 50/100\n",
            "6/6 [==============================] - 0s 3ms/step - loss: 0.4073 - accuracy: 0.9965\n",
            "Epoch 51/100\n",
            "6/6 [==============================] - 0s 3ms/step - loss: 0.3882 - accuracy: 0.9976\n",
            "Epoch 52/100\n",
            "6/6 [==============================] - 0s 3ms/step - loss: 0.3189 - accuracy: 0.9976\n",
            "Epoch 53/100\n",
            "6/6 [==============================] - 0s 3ms/step - loss: 0.3188 - accuracy: 0.9928\n",
            "Epoch 54/100\n",
            "6/6 [==============================] - 0s 5ms/step - loss: 0.2974 - accuracy: 1.0000\n",
            "Epoch 55/100\n",
            "6/6 [==============================] - 0s 4ms/step - loss: 0.2760 - accuracy: 0.9985\n",
            "Epoch 56/100\n",
            "6/6 [==============================] - 0s 3ms/step - loss: 0.2307 - accuracy: 0.9976\n",
            "Epoch 57/100\n",
            "6/6 [==============================] - 0s 3ms/step - loss: 0.2143 - accuracy: 0.9950\n",
            "Epoch 58/100\n",
            "6/6 [==============================] - 0s 3ms/step - loss: 0.1995 - accuracy: 1.0000\n",
            "Epoch 59/100\n",
            "6/6 [==============================] - 0s 3ms/step - loss: 0.1908 - accuracy: 1.0000\n",
            "Epoch 60/100\n",
            "6/6 [==============================] - 0s 3ms/step - loss: 0.1768 - accuracy: 1.0000\n",
            "Epoch 61/100\n",
            "6/6 [==============================] - 0s 3ms/step - loss: 0.1602 - accuracy: 1.0000\n",
            "Epoch 62/100\n",
            "6/6 [==============================] - 0s 4ms/step - loss: 0.1445 - accuracy: 1.0000\n",
            "Epoch 63/100\n",
            "6/6 [==============================] - 0s 3ms/step - loss: 0.1354 - accuracy: 1.0000\n",
            "Epoch 64/100\n",
            "6/6 [==============================] - 0s 3ms/step - loss: 0.1315 - accuracy: 1.0000\n",
            "Epoch 65/100\n",
            "6/6 [==============================] - 0s 3ms/step - loss: 0.1159 - accuracy: 1.0000\n",
            "Epoch 66/100\n",
            "6/6 [==============================] - 0s 3ms/step - loss: 0.1174 - accuracy: 1.0000\n",
            "Epoch 67/100\n",
            "6/6 [==============================] - 0s 3ms/step - loss: 0.0991 - accuracy: 1.0000\n",
            "Epoch 68/100\n",
            "6/6 [==============================] - 0s 3ms/step - loss: 0.0972 - accuracy: 1.0000\n",
            "Epoch 69/100\n",
            "6/6 [==============================] - 0s 3ms/step - loss: 0.0925 - accuracy: 1.0000\n",
            "Epoch 70/100\n",
            "6/6 [==============================] - 0s 3ms/step - loss: 0.0919 - accuracy: 1.0000\n",
            "Epoch 71/100\n",
            "6/6 [==============================] - 0s 3ms/step - loss: 0.0843 - accuracy: 1.0000\n",
            "Epoch 72/100\n",
            "6/6 [==============================] - 0s 4ms/step - loss: 0.0724 - accuracy: 1.0000\n",
            "Epoch 73/100\n",
            "6/6 [==============================] - 0s 3ms/step - loss: 0.0777 - accuracy: 1.0000\n",
            "Epoch 74/100\n",
            "6/6 [==============================] - 0s 3ms/step - loss: 0.0733 - accuracy: 1.0000\n",
            "Epoch 75/100\n",
            "6/6 [==============================] - 0s 3ms/step - loss: 0.0641 - accuracy: 1.0000\n",
            "Epoch 76/100\n",
            "6/6 [==============================] - 0s 3ms/step - loss: 0.0605 - accuracy: 1.0000\n",
            "Epoch 77/100\n",
            "6/6 [==============================] - 0s 3ms/step - loss: 0.0617 - accuracy: 1.0000\n",
            "Epoch 78/100\n",
            "6/6 [==============================] - 0s 3ms/step - loss: 0.0548 - accuracy: 1.0000\n",
            "Epoch 79/100\n",
            "6/6 [==============================] - 0s 3ms/step - loss: 0.0532 - accuracy: 1.0000\n",
            "Epoch 80/100\n",
            "6/6 [==============================] - 0s 3ms/step - loss: 0.0489 - accuracy: 1.0000\n",
            "Epoch 81/100\n",
            "6/6 [==============================] - 0s 3ms/step - loss: 0.0470 - accuracy: 1.0000\n",
            "Epoch 82/100\n",
            "6/6 [==============================] - 0s 3ms/step - loss: 0.0457 - accuracy: 1.0000\n",
            "Epoch 83/100\n",
            "6/6 [==============================] - 0s 3ms/step - loss: 0.0432 - accuracy: 1.0000\n",
            "Epoch 84/100\n",
            "6/6 [==============================] - 0s 3ms/step - loss: 0.0439 - accuracy: 1.0000\n",
            "Epoch 85/100\n",
            "6/6 [==============================] - 0s 3ms/step - loss: 0.0395 - accuracy: 1.0000\n",
            "Epoch 86/100\n",
            "6/6 [==============================] - 0s 3ms/step - loss: 0.0372 - accuracy: 1.0000\n",
            "Epoch 87/100\n",
            "6/6 [==============================] - 0s 3ms/step - loss: 0.0380 - accuracy: 1.0000\n",
            "Epoch 88/100\n",
            "6/6 [==============================] - 0s 3ms/step - loss: 0.0348 - accuracy: 1.0000\n",
            "Epoch 89/100\n",
            "6/6 [==============================] - 0s 3ms/step - loss: 0.0349 - accuracy: 1.0000\n",
            "Epoch 90/100\n",
            "6/6 [==============================] - 0s 3ms/step - loss: 0.0323 - accuracy: 1.0000\n",
            "Epoch 91/100\n",
            "6/6 [==============================] - 0s 3ms/step - loss: 0.0305 - accuracy: 1.0000\n",
            "Epoch 92/100\n",
            "6/6 [==============================] - 0s 3ms/step - loss: 0.0318 - accuracy: 1.0000\n",
            "Epoch 93/100\n",
            "6/6 [==============================] - 0s 3ms/step - loss: 0.0294 - accuracy: 1.0000\n",
            "Epoch 94/100\n",
            "6/6 [==============================] - 0s 3ms/step - loss: 0.0277 - accuracy: 1.0000\n",
            "Epoch 95/100\n",
            "6/6 [==============================] - 0s 3ms/step - loss: 0.0291 - accuracy: 1.0000\n",
            "Epoch 96/100\n",
            "6/6 [==============================] - 0s 3ms/step - loss: 0.0263 - accuracy: 1.0000\n",
            "Epoch 97/100\n",
            "6/6 [==============================] - 0s 4ms/step - loss: 0.0258 - accuracy: 1.0000\n",
            "Epoch 98/100\n",
            "6/6 [==============================] - 0s 3ms/step - loss: 0.0269 - accuracy: 1.0000\n",
            "Epoch 99/100\n",
            "6/6 [==============================] - 0s 3ms/step - loss: 0.0239 - accuracy: 1.0000\n",
            "Epoch 100/100\n",
            "6/6 [==============================] - 0s 3ms/step - loss: 0.0245 - accuracy: 1.0000\n",
            "Model: \"sequential\"\n",
            "_________________________________________________________________\n",
            "Layer (type)                 Output Shape              Param #   \n",
            "=================================================================\n",
            "dense (Dense)                (None, 8)                 920       \n",
            "_________________________________________________________________\n",
            "dense_1 (Dense)              (None, 32)                288       \n",
            "_________________________________________________________________\n",
            "dense_2 (Dense)              (None, 64)                2112      \n",
            "_________________________________________________________________\n",
            "dense_3 (Dense)              (None, 44)                2860      \n",
            "=================================================================\n",
            "Total params: 6,180\n",
            "Trainable params: 6,180\n",
            "Non-trainable params: 0\n",
            "_________________________________________________________________\n"
          ],
          "name": "stdout"
        }
      ]
    },
    {
      "cell_type": "code",
      "metadata": {
        "colab": {
          "base_uri": "https://localhost:8080/"
        },
        "id": "3C---40ILz14",
        "outputId": "3015a77c-56f4-4cb3-fbd4-eb475b43b1be"
      },
      "source": [
        "model.save('Bot-Model.h5')\n",
        "model.save('Bot-Model.model')"
      ],
      "execution_count": null,
      "outputs": [
        {
          "output_type": "stream",
          "text": [
            "INFO:tensorflow:Assets written to: Bot-Model.model/assets\n"
          ],
          "name": "stdout"
        }
      ]
    },
    {
      "cell_type": "code",
      "metadata": {
        "id": "3dAt4AyCDkP1"
      },
      "source": [
        "def bag_of_words(s,words):\n",
        "  bag = [0 for _ in range(len(words))]\n",
        " \n",
        "  s_words = nltk.word_tokenize(s)\n",
        "  s_words = [stemmer.stem(word.lower()) for word in s_words]\n",
        " \n",
        "  for se in s_words:\n",
        "    for i,w in enumerate(words):\n",
        "      if se == w:\n",
        "        bag[i] = 1\n",
        "    #for w in words:\n",
        "    #  if se == w:\n",
        "    #    bag[words.index(w)] = 1\n",
        "    return bag"
      ],
      "execution_count": null,
      "outputs": []
    },
    {
      "cell_type": "code",
      "metadata": {
        "id": "AfJ67EKxui-i"
      },
      "source": [
        "def chat():\n",
        "  print('Start Talking with the bot... Type quit to stop!')\n",
        "  while True:\n",
        "    inp = input('You: ')\n",
        "    if inp.lower() == 'quit':\n",
        "      break\n",
        "    results = model.predict([bag_of_words(inp,words)])\n",
        "    #print(results)\n",
        "    results = results[0]\n",
        "    results_index = numpy.argmax(results)\n",
        "    tag = labels[results_index]\n",
        " \n",
        "    if results[results_index] >= 0.5:\n",
        "      for tg in data['intents']:\n",
        "        if tg['tag'] == tag:\n",
        "          responses = tg['responses']\n",
        "          #print(random.choice(responses))\n",
        "          res = (('\\n').join(random.choice(responses).split('. ')))\n",
        "          print(\"\\n\" + res + \"\\n\")\n",
        "        \n",
        "    else:\n",
        "      print('Sorry, I did not get that..please try again' + '\\n') #print('Sorry, I didn't get that..please try again' + '\\n')"
      ],
      "execution_count": null,
      "outputs": []
    },
    {
      "cell_type": "code",
      "metadata": {
        "colab": {
          "base_uri": "https://localhost:8080/"
        },
        "id": "EOltlkrCV9ak",
        "outputId": "e8cf6c4f-02b6-4b25-8a33-d90b56ecbcfa"
      },
      "source": [
        "chat()"
      ],
      "execution_count": null,
      "outputs": [
        {
          "output_type": "stream",
          "text": [
            "Start Talking with the bot... Type quit to stop!\n",
            "You: cuts\n",
            "\n",
            "Wash the cut properly to prevent infection and stop the bleeding by applying pressure for 1-2minutes until bleeding stops\n",
            "Apply Petroleum Jelly to make sure that the wound is moist for quick healing\n",
            "Finally cover the cut with a sterile bandage\n",
            "Pain relievers such as acetaminophen can be applied.\n",
            "\n",
            "You: snake bite\n",
            "Sorry, I did not get that..please try again\n",
            "\n",
            "You: animal bite\n",
            "Sorry, I did not get that..please try again\n",
            "\n",
            "You: fracture\n",
            "\n",
            "1)Stop any bleeding\n",
            "Apply pressure to the wound with a sterile bandage, a clean cloth or a clean piece of clothing\n",
            "2)Immobilize the injured area\n",
            "Don't try to realign the bone or push a bone that's sticking out back in\n",
            "If you've been trained in how to splint and professional help isn't readily available, apply a splint to the area above and below the fracture sites\n",
            "Padding the splints can help reduce discomfort\n",
            "3)Apply ice packs to limit swelling and help relieve pain\n",
            "Don't apply ice directly to the skin\n",
            "Wrap the ice in a towel, piece of cloth or some other material\n",
            "4)Treat for shock\n",
            "If the person feels faint or is breathing in short, rapid breaths, lay the person down with the head slightly lower than the trunk and, if possible, elevate the legs.\n",
            "\n",
            "You: animal\n",
            "Sorry, I did not get that..please try again\n",
            "\n",
            "You: animal bte\n",
            "Sorry, I did not get that..please try again\n",
            "\n",
            "You: cake\n",
            "Sorry, I did not get that..please try again\n",
            "\n",
            "You: quit\n"
          ],
          "name": "stdout"
        }
      ]
    },
    {
      "cell_type": "code",
      "metadata": {
        "colab": {
          "base_uri": "https://localhost:8080/"
        },
        "id": "bu2rdF7O0vdm",
        "outputId": "1463869e-ef40-440d-d067-bab0d43bf8ad"
      },
      "source": [
        "#print(labels[9])\n",
        "#print(numpy.argmax(model.predict([bag_of_words('drowning',words)])[0]))\n",
        "#print((model.predict([bag_of_words('snake bite',words)])[0]))\n",
        "print(labels[numpy.argmax(model.predict([bag_of_words('headache',words)])[0])])\n",
        "#print(numpy.argmax(model.predict([bag_of_words('cuts',words)])))\n",
        "#responses = data['intents'][0]['responses'][0]\n",
        "##print(responses)\n",
        "#res = (('\\n').join(responses.split('. ')))\n",
        "#print(res + '\\n')"
      ],
      "execution_count": null,
      "outputs": [
        {
          "output_type": "stream",
          "text": [
            "Headache\n"
          ],
          "name": "stdout"
        }
      ]
    },
    {
      "cell_type": "code",
      "metadata": {
        "id": "g9Gx-pctTf1h",
        "colab": {
          "base_uri": "https://localhost:8080/"
        },
        "outputId": "8d1adefb-0db5-4739-cd25-3e8ea158d4ea"
      },
      "source": [
        "print('a' + \"\\\\\\\\n\" + 'b')"
      ],
      "execution_count": null,
      "outputs": [
        {
          "output_type": "stream",
          "text": [
            "a\\\\nb\n"
          ],
          "name": "stdout"
        }
      ]
    },
    {
      "cell_type": "code",
      "metadata": {
        "id": "Mbz67tI2QHNY",
        "colab": {
          "base_uri": "https://localhost:8080/"
        },
        "outputId": "5081f0d4-b2c6-42e9-d809-d3bca7653c91"
      },
      "source": [
        "print(len(words))\n",
        "len(bag_of_words('cuts',words))"
      ],
      "execution_count": null,
      "outputs": [
        {
          "output_type": "stream",
          "text": [
            "114\n"
          ],
          "name": "stdout"
        },
        {
          "output_type": "execute_result",
          "data": {
            "text/plain": [
              "114"
            ]
          },
          "metadata": {
            "tags": []
          },
          "execution_count": 22
        }
      ]
    },
    {
      "cell_type": "markdown",
      "metadata": {
        "id": "clmZkAL8OeWa"
      },
      "source": [
        "\n",
        "HW 21-6 <br>\n",
        "Test & Train <br>\n",
        "Research about overfitting <br>\n",
        "Understanding the code\n",
        "\n",
        "---\n",
        "\n"
      ]
    },
    {
      "cell_type": "markdown",
      "metadata": {
        "id": "4De5JJ9VaJ-A"
      },
      "source": [
        "\n",
        "HW 22-6 <br>\n",
        "Writing the code <br>\n",
        "Understanding the code <br>\n",
        "Split & Join <br>\n",
        "\n",
        "---\n",
        "\n"
      ]
    }
  ]
}